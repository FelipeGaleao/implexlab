{
 "cells": [
  {
   "cell_type": "code",
   "execution_count": 3,
   "metadata": {},
   "outputs": [
    {
     "data": {
      "application/vnd.plotly.v1+json": {
       "config": {
        "plotlyServerURL": "https://plot.ly"
       },
       "data": [
        {
         "hovertemplate": "variable=BUBBLE<br>N=%{x}<br>value=%{y}<extra></extra>",
         "legendgroup": "BUBBLE",
         "line": {
          "color": "#636efa",
          "dash": "solid"
         },
         "marker": {
          "symbol": "circle"
         },
         "mode": "lines",
         "name": "BUBBLE",
         "orientation": "v",
         "showlegend": true,
         "type": "scatter",
         "x": [
          1000,
          2000,
          3000,
          4000,
          5000,
          6000,
          7000,
          8000,
          9000,
          10000,
          11000,
          12000,
          13000,
          14000,
          15000,
          16000,
          17000,
          18000,
          19000,
          20000,
          21000,
          22000,
          23000,
          24000,
          25000,
          26000,
          27000,
          28000,
          29000,
          30000,
          31000,
          32000,
          33000,
          34000,
          35000,
          36000,
          37000,
          38000,
          39000,
          40000,
          41000,
          42000,
          43000,
          44000,
          45000,
          46000,
          47000,
          48000,
          49000,
          50000
         ],
         "xaxis": "x",
         "y": [
          0.0159919261932373,
          0.0174033641815185,
          0.0158510208129882,
          0.0149681568145751,
          0.0156800746917724,
          0.0152132511138916,
          0.0149869918823242,
          0.0151588916778564,
          0.0149140357971191,
          0.0149602890014648,
          0.0151898860931396,
          0.0158169269561767,
          0.0151221752166748,
          0.0149812698364257,
          0.0151038169860839,
          0.0157959461212158,
          0.0150589942932128,
          0.0152580738067626,
          0.0147428512573242,
          0.0154149532318115,
          0.0160090923309326,
          0.0153040885925292,
          0.0156011581420898,
          0.0152082443237304,
          0.0153479576110839,
          0.0154991149902343,
          0.0155599117279052,
          0.0154559612274169,
          0.0148978233337402,
          0.0149300098419189,
          0.0154812335968017,
          0.0150377750396728,
          0.0157320499420166,
          0.015787124633789,
          0.0153300762176513,
          0.0150649547576904,
          0.0154681205749511,
          0.0144782066345214,
          0.0146989822387695,
          0.0150690078735351,
          0.0152211189270019,
          0.0152933597564697,
          0.0158698558807373,
          0.0152251720428466,
          0.0154359340667724,
          0.0151648521423339,
          0.0153141021728515,
          0.0149588584899902,
          0.0152182579040527,
          0.0153572559356689
         ],
         "yaxis": "y"
        },
        {
         "hovertemplate": "variable=QUICK<br>N=%{x}<br>value=%{y}<extra></extra>",
         "legendgroup": "QUICK",
         "line": {
          "color": "#EF553B",
          "dash": "solid"
         },
         "marker": {
          "symbol": "circle"
         },
         "mode": "lines",
         "name": "QUICK",
         "orientation": "v",
         "showlegend": true,
         "type": "scatter",
         "x": [
          1000,
          2000,
          3000,
          4000,
          5000,
          6000,
          7000,
          8000,
          9000,
          10000,
          11000,
          12000,
          13000,
          14000,
          15000,
          16000,
          17000,
          18000,
          19000,
          20000,
          21000,
          22000,
          23000,
          24000,
          25000,
          26000,
          27000,
          28000,
          29000,
          30000,
          31000,
          32000,
          33000,
          34000,
          35000,
          36000,
          37000,
          38000,
          39000,
          40000,
          41000,
          42000,
          43000,
          44000,
          45000,
          46000,
          47000,
          48000,
          49000,
          50000
         ],
         "xaxis": "x",
         "y": [
          0.0199551582336425,
          0.0004510879516601,
          0.0004100799560546,
          0.0004248619079589,
          0.0003771781921386,
          0.0004448890686035,
          0.0003879070281982,
          0.000453233718872,
          0.0004098415374755,
          0.000417947769165,
          0.0004270076751708,
          0.0004301071166992,
          0.0003938674926757,
          0.0004339218139648,
          0.000389814376831,
          0.0004076957702636,
          0.0004150867462158,
          0.0003941059112548,
          0.0003938674926757,
          0.0004220008850097,
          0.0004570484161376,
          0.000417947769165,
          0.0003960132598876,
          0.0004186630249023,
          0.000417947769165,
          0.0004308223724365,
          0.000446081161499,
          0.0004138946533203,
          0.0004398822784423,
          0.0004003047943115,
          0.0003919601440429,
          0.0004100799560546,
          0.0003931522369384,
          0.0004098415374755,
          0.0004429817199707,
          0.0003948211669921,
          0.0004117488861083,
          0.0003950595855712,
          0.0004048347473144,
          0.0003800392150878,
          0.0003972053527832,
          0.0004041194915771,
          0.0004229545593261,
          0.0004220008850097,
          0.0003969669342041,
          0.0004029273986816,
          0.0003769397735595,
          0.0004000663757324,
          0.0003960132598876,
          0.0004212856292724
         ],
         "yaxis": "y"
        },
        {
         "hovertemplate": "variable=MERGE<br>N=%{x}<br>value=%{y}<extra></extra>",
         "legendgroup": "MERGE",
         "line": {
          "color": "#00cc96",
          "dash": "solid"
         },
         "marker": {
          "symbol": "circle"
         },
         "mode": "lines",
         "name": "MERGE",
         "orientation": "v",
         "showlegend": true,
         "type": "scatter",
         "x": [
          1000,
          2000,
          3000,
          4000,
          5000,
          6000,
          7000,
          8000,
          9000,
          10000,
          11000,
          12000,
          13000,
          14000,
          15000,
          16000,
          17000,
          18000,
          19000,
          20000,
          21000,
          22000,
          23000,
          24000,
          25000,
          26000,
          27000,
          28000,
          29000,
          30000,
          31000,
          32000,
          33000,
          34000,
          35000,
          36000,
          37000,
          38000,
          39000,
          40000,
          41000,
          42000,
          43000,
          44000,
          45000,
          46000,
          47000,
          48000,
          49000,
          50000
         ],
         "xaxis": "x",
         "y": [
          0.0006892681121826,
          0.0006790161132812,
          0.000648021697998,
          0.0006241798400878,
          0.0005939006805419,
          0.0006120204925537,
          0.0005810260772705,
          0.000633955001831,
          0.0006411075592041,
          0.0012311935424804,
          0.0006389617919921,
          0.0006389617919921,
          0.0006372928619384,
          0.0006258487701416,
          0.0005929470062255,
          0.0006499290466308,
          0.0006427764892578,
          0.0006439685821533,
          0.000701904296875,
          0.000655174255371,
          0.0005991458892822,
          0.0006730556488037,
          0.000701904296875,
          0.0006392002105712,
          0.0006129741668701,
          0.0006618499755859,
          0.0006880760192871,
          0.000669240951538,
          0.0006442070007324,
          0.0006098747253417,
          0.0006289482116699,
          0.0006248950958251,
          0.0005908012390136,
          0.0006630420684814,
          0.0006260871887207,
          0.000633955001831,
          0.0006279945373535,
          0.0005860328674316,
          0.0006823539733886,
          0.0005919933319091,
          0.000598669052124,
          0.0006420612335205,
          0.0006380081176757,
          0.0006439685821533,
          0.0006229877471923,
          0.0006380081176757,
          0.0005807876586914,
          0.0006196498870849,
          0.0006301403045654,
          0.0005929470062255
         ],
         "yaxis": "y"
        },
        {
         "hovertemplate": "variable=HEAP<br>N=%{x}<br>value=%{y}<extra></extra>",
         "legendgroup": "HEAP",
         "line": {
          "color": "#ab63fa",
          "dash": "solid"
         },
         "marker": {
          "symbol": "circle"
         },
         "mode": "lines",
         "name": "HEAP",
         "orientation": "v",
         "showlegend": true,
         "type": "scatter",
         "x": [
          1000,
          2000,
          3000,
          4000,
          5000,
          6000,
          7000,
          8000,
          9000,
          10000,
          11000,
          12000,
          13000,
          14000,
          15000,
          16000,
          17000,
          18000,
          19000,
          20000,
          21000,
          22000,
          23000,
          24000,
          25000,
          26000,
          27000,
          28000,
          29000,
          30000,
          31000,
          32000,
          33000,
          34000,
          35000,
          36000,
          37000,
          38000,
          39000,
          40000,
          41000,
          42000,
          43000,
          44000,
          45000,
          46000,
          47000,
          48000,
          49000,
          50000
         ],
         "xaxis": "x",
         "y": [
          0.0001537799835205,
          0.0009450912475585,
          0.000903844833374,
          0.0008809566497802,
          0.0008981227874755,
          0.0009107589721679,
          0.0008807182312011,
          0.0008928775787353,
          0.0008299350738525,
          0.0011160373687744,
          0.0008549690246582,
          0.0009129047393798,
          0.0008769035339355,
          0.0008981227874755,
          0.0008261203765869,
          0.0009150505065917,
          0.0008182525634765,
          0.0008878707885742,
          0.00101900100708,
          0.0009169578552246,
          0.0008900165557861,
          0.0008959770202636,
          0.0008866786956787,
          0.000925064086914,
          0.0009169578552246,
          0.0009071826934814,
          0.0009148120880126,
          0.0009069442749023,
          0.0008900165557861,
          0.0008959770202636,
          0.0008759498596191,
          0.0008869171142578,
          0.0008370876312255,
          0.0009081363677978,
          0.0008959770202636,
          0.0008702278137207,
          0.0008950233459472,
          0.0008177757263183,
          0.0008738040924072,
          0.0008659362792968,
          0.0008361339569091,
          0.0009059906005859,
          0.0008831024169921,
          0.0008971691131591,
          0.0008659362792968,
          0.0008599758148193,
          0.0008471012115478,
          0.0008821487426757,
          0.0008840560913085,
          0.0008571147918701
         ],
         "yaxis": "y"
        },
        {
         "hovertemplate": "variable=INSERTION<br>N=%{x}<br>value=%{y}<extra></extra>",
         "legendgroup": "INSERTION",
         "line": {
          "color": "#FFA15A",
          "dash": "solid"
         },
         "marker": {
          "symbol": "circle"
         },
         "mode": "lines",
         "name": "INSERTION",
         "orientation": "v",
         "showlegend": true,
         "type": "scatter",
         "x": [
          1000,
          2000,
          3000,
          4000,
          5000,
          6000,
          7000,
          8000,
          9000,
          10000,
          11000,
          12000,
          13000,
          14000,
          15000,
          16000,
          17000,
          18000,
          19000,
          20000,
          21000,
          22000,
          23000,
          24000,
          25000,
          26000,
          27000,
          28000,
          29000,
          30000,
          31000,
          32000,
          33000,
          34000,
          35000,
          36000,
          37000,
          38000,
          39000,
          40000,
          41000,
          42000,
          43000,
          44000,
          45000,
          46000,
          47000,
          48000,
          49000,
          50000
         ],
         "xaxis": "x",
         "y": [
          0.00004506111145019531,
          0.0068516731262207,
          0.0067801475524902,
          0.0066039562225341,
          0.0066769123077392,
          0.0066499710083007,
          0.0063569545745849,
          0.0068550109863281,
          0.0061869621276855,
          0.0061559677124023,
          0.0064668655395507,
          0.006300926208496,
          0.0066962242126464,
          0.0065588951110839,
          0.0061168670654296,
          0.0066311359405517,
          0.0063478946685791,
          0.006702184677124,
          0.0066070556640625,
          0.0072569847106933,
          0.006580114364624,
          0.0063741207122802,
          0.0064961910247802,
          0.0064630508422851,
          0.0063891410827636,
          0.0065188407897949,
          0.0063319206237792,
          0.0067718029022216,
          0.00655198097229,
          0.0063347816467285,
          0.0063300132751464,
          0.0065701007843017,
          0.0065951347351074,
          0.0067028999328613,
          0.0068128108978271,
          0.0063729286193847,
          0.0065679550170898,
          0.0061419010162353,
          0.0064117908477783,
          0.0065140724182128,
          0.0067930221557617,
          0.0063581466674804,
          0.0067818164825439,
          0.0066571235656738,
          0.0066292285919189,
          0.0066540241241455,
          0.0066480636596679,
          0.0064060688018798,
          0.0064411163330078,
          0.0068299770355224
         ],
         "yaxis": "y"
        },
        {
         "hovertemplate": "variable=COUNTING<br>N=%{x}<br>value=%{y}<extra></extra>",
         "legendgroup": "COUNTING",
         "line": {
          "color": "#19d3f3",
          "dash": "solid"
         },
         "marker": {
          "symbol": "circle"
         },
         "mode": "lines",
         "name": "COUNTING",
         "orientation": "v",
         "showlegend": true,
         "type": "scatter",
         "x": [
          1000,
          2000,
          3000,
          4000,
          5000,
          6000,
          7000,
          8000,
          9000,
          10000,
          11000,
          12000,
          13000,
          14000,
          15000,
          16000,
          17000,
          18000,
          19000,
          20000,
          21000,
          22000,
          23000,
          24000,
          25000,
          26000,
          27000,
          28000,
          29000,
          30000,
          31000,
          32000,
          33000,
          34000,
          35000,
          36000,
          37000,
          38000,
          39000,
          40000,
          41000,
          42000,
          43000,
          44000,
          45000,
          46000,
          47000,
          48000,
          49000,
          50000
         ],
         "xaxis": "x",
         "y": [
          0.0001227855682373,
          0.0001521110534667,
          0.0002009868621826,
          0.000237226486206,
          0.0002591609954833,
          0.0002961158752441,
          0.0003111362457275,
          0.0003480911254882,
          0.0003821849822998,
          0.000615119934082,
          0.0004560947418212,
          0.0004589557647705,
          0.0004909038543701,
          0.0005402565002441,
          0.0005252361297607,
          0.0005927085876464,
          0.0006780624389648,
          0.0006430149078369,
          0.0006818771362304,
          0.0008440017700195,
          0.0008211135864257,
          0.0009016990661621,
          0.0008161067962646,
          0.0008299350738525,
          0.000946044921875,
          0.0009880065917968,
          0.0009088516235351,
          0.0009379386901855,
          0.0009641647338867,
          0.0011358261108398,
          0.0010371208190917,
          0.0010359287261962,
          0.0010511875152587,
          0.0012159347534179,
          0.001274824142456,
          0.0011851787567138,
          0.0014209747314453,
          0.0011131763458251,
          0.0012998580932617,
          0.001453161239624,
          0.0013549327850341,
          0.0013628005981445,
          0.0014200210571289,
          0.0014300346374511,
          0.0014708042144775,
          0.0014841556549072,
          0.0015590190887451,
          0.001565933227539,
          0.0017390251159667,
          0.0016789436340332
         ],
         "yaxis": "y"
        }
       ],
       "layout": {
        "legend": {
         "title": {
          "text": "variable"
         },
         "tracegroupgap": 0
        },
        "template": {
         "data": {
          "bar": [
           {
            "error_x": {
             "color": "#2a3f5f"
            },
            "error_y": {
             "color": "#2a3f5f"
            },
            "marker": {
             "line": {
              "color": "#E5ECF6",
              "width": 0.5
             },
             "pattern": {
              "fillmode": "overlay",
              "size": 10,
              "solidity": 0.2
             }
            },
            "type": "bar"
           }
          ],
          "barpolar": [
           {
            "marker": {
             "line": {
              "color": "#E5ECF6",
              "width": 0.5
             },
             "pattern": {
              "fillmode": "overlay",
              "size": 10,
              "solidity": 0.2
             }
            },
            "type": "barpolar"
           }
          ],
          "carpet": [
           {
            "aaxis": {
             "endlinecolor": "#2a3f5f",
             "gridcolor": "white",
             "linecolor": "white",
             "minorgridcolor": "white",
             "startlinecolor": "#2a3f5f"
            },
            "baxis": {
             "endlinecolor": "#2a3f5f",
             "gridcolor": "white",
             "linecolor": "white",
             "minorgridcolor": "white",
             "startlinecolor": "#2a3f5f"
            },
            "type": "carpet"
           }
          ],
          "choropleth": [
           {
            "colorbar": {
             "outlinewidth": 0,
             "ticks": ""
            },
            "type": "choropleth"
           }
          ],
          "contour": [
           {
            "colorbar": {
             "outlinewidth": 0,
             "ticks": ""
            },
            "colorscale": [
             [
              0,
              "#0d0887"
             ],
             [
              0.1111111111111111,
              "#46039f"
             ],
             [
              0.2222222222222222,
              "#7201a8"
             ],
             [
              0.3333333333333333,
              "#9c179e"
             ],
             [
              0.4444444444444444,
              "#bd3786"
             ],
             [
              0.5555555555555556,
              "#d8576b"
             ],
             [
              0.6666666666666666,
              "#ed7953"
             ],
             [
              0.7777777777777778,
              "#fb9f3a"
             ],
             [
              0.8888888888888888,
              "#fdca26"
             ],
             [
              1,
              "#f0f921"
             ]
            ],
            "type": "contour"
           }
          ],
          "contourcarpet": [
           {
            "colorbar": {
             "outlinewidth": 0,
             "ticks": ""
            },
            "type": "contourcarpet"
           }
          ],
          "heatmap": [
           {
            "colorbar": {
             "outlinewidth": 0,
             "ticks": ""
            },
            "colorscale": [
             [
              0,
              "#0d0887"
             ],
             [
              0.1111111111111111,
              "#46039f"
             ],
             [
              0.2222222222222222,
              "#7201a8"
             ],
             [
              0.3333333333333333,
              "#9c179e"
             ],
             [
              0.4444444444444444,
              "#bd3786"
             ],
             [
              0.5555555555555556,
              "#d8576b"
             ],
             [
              0.6666666666666666,
              "#ed7953"
             ],
             [
              0.7777777777777778,
              "#fb9f3a"
             ],
             [
              0.8888888888888888,
              "#fdca26"
             ],
             [
              1,
              "#f0f921"
             ]
            ],
            "type": "heatmap"
           }
          ],
          "heatmapgl": [
           {
            "colorbar": {
             "outlinewidth": 0,
             "ticks": ""
            },
            "colorscale": [
             [
              0,
              "#0d0887"
             ],
             [
              0.1111111111111111,
              "#46039f"
             ],
             [
              0.2222222222222222,
              "#7201a8"
             ],
             [
              0.3333333333333333,
              "#9c179e"
             ],
             [
              0.4444444444444444,
              "#bd3786"
             ],
             [
              0.5555555555555556,
              "#d8576b"
             ],
             [
              0.6666666666666666,
              "#ed7953"
             ],
             [
              0.7777777777777778,
              "#fb9f3a"
             ],
             [
              0.8888888888888888,
              "#fdca26"
             ],
             [
              1,
              "#f0f921"
             ]
            ],
            "type": "heatmapgl"
           }
          ],
          "histogram": [
           {
            "marker": {
             "pattern": {
              "fillmode": "overlay",
              "size": 10,
              "solidity": 0.2
             }
            },
            "type": "histogram"
           }
          ],
          "histogram2d": [
           {
            "colorbar": {
             "outlinewidth": 0,
             "ticks": ""
            },
            "colorscale": [
             [
              0,
              "#0d0887"
             ],
             [
              0.1111111111111111,
              "#46039f"
             ],
             [
              0.2222222222222222,
              "#7201a8"
             ],
             [
              0.3333333333333333,
              "#9c179e"
             ],
             [
              0.4444444444444444,
              "#bd3786"
             ],
             [
              0.5555555555555556,
              "#d8576b"
             ],
             [
              0.6666666666666666,
              "#ed7953"
             ],
             [
              0.7777777777777778,
              "#fb9f3a"
             ],
             [
              0.8888888888888888,
              "#fdca26"
             ],
             [
              1,
              "#f0f921"
             ]
            ],
            "type": "histogram2d"
           }
          ],
          "histogram2dcontour": [
           {
            "colorbar": {
             "outlinewidth": 0,
             "ticks": ""
            },
            "colorscale": [
             [
              0,
              "#0d0887"
             ],
             [
              0.1111111111111111,
              "#46039f"
             ],
             [
              0.2222222222222222,
              "#7201a8"
             ],
             [
              0.3333333333333333,
              "#9c179e"
             ],
             [
              0.4444444444444444,
              "#bd3786"
             ],
             [
              0.5555555555555556,
              "#d8576b"
             ],
             [
              0.6666666666666666,
              "#ed7953"
             ],
             [
              0.7777777777777778,
              "#fb9f3a"
             ],
             [
              0.8888888888888888,
              "#fdca26"
             ],
             [
              1,
              "#f0f921"
             ]
            ],
            "type": "histogram2dcontour"
           }
          ],
          "mesh3d": [
           {
            "colorbar": {
             "outlinewidth": 0,
             "ticks": ""
            },
            "type": "mesh3d"
           }
          ],
          "parcoords": [
           {
            "line": {
             "colorbar": {
              "outlinewidth": 0,
              "ticks": ""
             }
            },
            "type": "parcoords"
           }
          ],
          "pie": [
           {
            "automargin": true,
            "type": "pie"
           }
          ],
          "scatter": [
           {
            "fillpattern": {
             "fillmode": "overlay",
             "size": 10,
             "solidity": 0.2
            },
            "type": "scatter"
           }
          ],
          "scatter3d": [
           {
            "line": {
             "colorbar": {
              "outlinewidth": 0,
              "ticks": ""
             }
            },
            "marker": {
             "colorbar": {
              "outlinewidth": 0,
              "ticks": ""
             }
            },
            "type": "scatter3d"
           }
          ],
          "scattercarpet": [
           {
            "marker": {
             "colorbar": {
              "outlinewidth": 0,
              "ticks": ""
             }
            },
            "type": "scattercarpet"
           }
          ],
          "scattergeo": [
           {
            "marker": {
             "colorbar": {
              "outlinewidth": 0,
              "ticks": ""
             }
            },
            "type": "scattergeo"
           }
          ],
          "scattergl": [
           {
            "marker": {
             "colorbar": {
              "outlinewidth": 0,
              "ticks": ""
             }
            },
            "type": "scattergl"
           }
          ],
          "scattermapbox": [
           {
            "marker": {
             "colorbar": {
              "outlinewidth": 0,
              "ticks": ""
             }
            },
            "type": "scattermapbox"
           }
          ],
          "scatterpolar": [
           {
            "marker": {
             "colorbar": {
              "outlinewidth": 0,
              "ticks": ""
             }
            },
            "type": "scatterpolar"
           }
          ],
          "scatterpolargl": [
           {
            "marker": {
             "colorbar": {
              "outlinewidth": 0,
              "ticks": ""
             }
            },
            "type": "scatterpolargl"
           }
          ],
          "scatterternary": [
           {
            "marker": {
             "colorbar": {
              "outlinewidth": 0,
              "ticks": ""
             }
            },
            "type": "scatterternary"
           }
          ],
          "surface": [
           {
            "colorbar": {
             "outlinewidth": 0,
             "ticks": ""
            },
            "colorscale": [
             [
              0,
              "#0d0887"
             ],
             [
              0.1111111111111111,
              "#46039f"
             ],
             [
              0.2222222222222222,
              "#7201a8"
             ],
             [
              0.3333333333333333,
              "#9c179e"
             ],
             [
              0.4444444444444444,
              "#bd3786"
             ],
             [
              0.5555555555555556,
              "#d8576b"
             ],
             [
              0.6666666666666666,
              "#ed7953"
             ],
             [
              0.7777777777777778,
              "#fb9f3a"
             ],
             [
              0.8888888888888888,
              "#fdca26"
             ],
             [
              1,
              "#f0f921"
             ]
            ],
            "type": "surface"
           }
          ],
          "table": [
           {
            "cells": {
             "fill": {
              "color": "#EBF0F8"
             },
             "line": {
              "color": "white"
             }
            },
            "header": {
             "fill": {
              "color": "#C8D4E3"
             },
             "line": {
              "color": "white"
             }
            },
            "type": "table"
           }
          ]
         },
         "layout": {
          "annotationdefaults": {
           "arrowcolor": "#2a3f5f",
           "arrowhead": 0,
           "arrowwidth": 1
          },
          "autotypenumbers": "strict",
          "coloraxis": {
           "colorbar": {
            "outlinewidth": 0,
            "ticks": ""
           }
          },
          "colorscale": {
           "diverging": [
            [
             0,
             "#8e0152"
            ],
            [
             0.1,
             "#c51b7d"
            ],
            [
             0.2,
             "#de77ae"
            ],
            [
             0.3,
             "#f1b6da"
            ],
            [
             0.4,
             "#fde0ef"
            ],
            [
             0.5,
             "#f7f7f7"
            ],
            [
             0.6,
             "#e6f5d0"
            ],
            [
             0.7,
             "#b8e186"
            ],
            [
             0.8,
             "#7fbc41"
            ],
            [
             0.9,
             "#4d9221"
            ],
            [
             1,
             "#276419"
            ]
           ],
           "sequential": [
            [
             0,
             "#0d0887"
            ],
            [
             0.1111111111111111,
             "#46039f"
            ],
            [
             0.2222222222222222,
             "#7201a8"
            ],
            [
             0.3333333333333333,
             "#9c179e"
            ],
            [
             0.4444444444444444,
             "#bd3786"
            ],
            [
             0.5555555555555556,
             "#d8576b"
            ],
            [
             0.6666666666666666,
             "#ed7953"
            ],
            [
             0.7777777777777778,
             "#fb9f3a"
            ],
            [
             0.8888888888888888,
             "#fdca26"
            ],
            [
             1,
             "#f0f921"
            ]
           ],
           "sequentialminus": [
            [
             0,
             "#0d0887"
            ],
            [
             0.1111111111111111,
             "#46039f"
            ],
            [
             0.2222222222222222,
             "#7201a8"
            ],
            [
             0.3333333333333333,
             "#9c179e"
            ],
            [
             0.4444444444444444,
             "#bd3786"
            ],
            [
             0.5555555555555556,
             "#d8576b"
            ],
            [
             0.6666666666666666,
             "#ed7953"
            ],
            [
             0.7777777777777778,
             "#fb9f3a"
            ],
            [
             0.8888888888888888,
             "#fdca26"
            ],
            [
             1,
             "#f0f921"
            ]
           ]
          },
          "colorway": [
           "#636efa",
           "#EF553B",
           "#00cc96",
           "#ab63fa",
           "#FFA15A",
           "#19d3f3",
           "#FF6692",
           "#B6E880",
           "#FF97FF",
           "#FECB52"
          ],
          "font": {
           "color": "#2a3f5f"
          },
          "geo": {
           "bgcolor": "white",
           "lakecolor": "white",
           "landcolor": "#E5ECF6",
           "showlakes": true,
           "showland": true,
           "subunitcolor": "white"
          },
          "hoverlabel": {
           "align": "left"
          },
          "hovermode": "closest",
          "mapbox": {
           "style": "light"
          },
          "paper_bgcolor": "white",
          "plot_bgcolor": "#E5ECF6",
          "polar": {
           "angularaxis": {
            "gridcolor": "white",
            "linecolor": "white",
            "ticks": ""
           },
           "bgcolor": "#E5ECF6",
           "radialaxis": {
            "gridcolor": "white",
            "linecolor": "white",
            "ticks": ""
           }
          },
          "scene": {
           "xaxis": {
            "backgroundcolor": "#E5ECF6",
            "gridcolor": "white",
            "gridwidth": 2,
            "linecolor": "white",
            "showbackground": true,
            "ticks": "",
            "zerolinecolor": "white"
           },
           "yaxis": {
            "backgroundcolor": "#E5ECF6",
            "gridcolor": "white",
            "gridwidth": 2,
            "linecolor": "white",
            "showbackground": true,
            "ticks": "",
            "zerolinecolor": "white"
           },
           "zaxis": {
            "backgroundcolor": "#E5ECF6",
            "gridcolor": "white",
            "gridwidth": 2,
            "linecolor": "white",
            "showbackground": true,
            "ticks": "",
            "zerolinecolor": "white"
           }
          },
          "shapedefaults": {
           "line": {
            "color": "#2a3f5f"
           }
          },
          "ternary": {
           "aaxis": {
            "gridcolor": "white",
            "linecolor": "white",
            "ticks": ""
           },
           "baxis": {
            "gridcolor": "white",
            "linecolor": "white",
            "ticks": ""
           },
           "bgcolor": "#E5ECF6",
           "caxis": {
            "gridcolor": "white",
            "linecolor": "white",
            "ticks": ""
           }
          },
          "title": {
           "x": 0.05
          },
          "xaxis": {
           "automargin": true,
           "gridcolor": "white",
           "linecolor": "white",
           "ticks": "",
           "title": {
            "standoff": 15
           },
           "zerolinecolor": "white",
           "zerolinewidth": 2
          },
          "yaxis": {
           "automargin": true,
           "gridcolor": "white",
           "linecolor": "white",
           "ticks": "",
           "title": {
            "standoff": 15
           },
           "zerolinecolor": "white",
           "zerolinewidth": 2
          }
         }
        },
        "title": {
         "text": "RANDOM"
        },
        "xaxis": {
         "anchor": "y",
         "domain": [
          0,
          1
         ],
         "title": {
          "text": "N"
         }
        },
        "yaxis": {
         "anchor": "x",
         "domain": [
          0,
          1
         ],
         "title": {
          "text": "value"
         }
        }
       }
      }
     },
     "metadata": {},
     "output_type": "display_data"
    },
    {
     "data": {
      "image/png": "[encoded data removed]",
      "text/plain": [
       "<Figure size 640x480 with 1 Axes>"
      ]
     },
     "metadata": {},
     "output_type": "display_data"
    },
    {
     "data": {
      "application/vnd.plotly.v1+json": {
       "config": {
        "plotlyServerURL": "https://plot.ly"
       },
       "data": [
        {
         "hovertemplate": "variable=BUBBLE<br>N=%{x}<br>value=%{y}<extra></extra>",
         "legendgroup": "BUBBLE",
         "line": {
          "color": "#636efa",
          "dash": "solid"
         },
         "marker": {
          "symbol": "circle"
         },
         "mode": "lines",
         "name": "BUBBLE",
         "orientation": "v",
         "showlegend": true,
         "type": "scatter",
         "x": [
          1000,
          2000,
          3000,
          4000,
          5000,
          6000,
          7000,
          8000,
          9000,
          10000,
          11000,
          12000,
          13000,
          14000,
          15000,
          16000,
          17000,
          18000,
          19000,
          20000,
          21000,
          22000,
          23000,
          24000,
          25000,
          26000,
          27000,
          28000,
          29000,
          30000,
          31000,
          32000,
          33000,
          34000,
          35000,
          36000,
          37000,
          38000,
          39000,
          40000,
          41000,
          42000,
          43000,
          44000,
          45000,
          46000,
          47000,
          48000,
          49000,
          50000
         ],
         "xaxis": "x",
         "y": [
          9.5367431640625e-7,
          0,
          9.5367431640625e-7,
          9.5367431640625e-7,
          9.5367431640625e-7,
          0.0000011920928955078125,
          9.5367431640625e-7,
          9.5367431640625e-7,
          0.0000021457672119140625,
          0.0000021457672119140625,
          0.0000030994415283203125,
          0.0000030994415283203125,
          0.0000030994415283203125,
          0.0000040531158447265625,
          0.000003814697265625,
          0.000005245208740234375,
          0.0000057220458984375,
          0.0000069141387939453125,
          0.000007867813110351562,
          0.000008106231689453125,
          0.000008821487426757812,
          0.000010013580322265623,
          0.000009775161743164062,
          0.000010967254638671877,
          0.000011920928955078123,
          0.000012159347534179688,
          0.000014066696166992188,
          0.0000152587890625,
          0.000015974044799804688,
          0.000016927719116210938,
          0.00001811981201171875,
          0.000019073486328125,
          0.00002002716064453125,
          0.000021696090698242188,
          0.00002312660217285156,
          0.000024080276489257812,
          0.000025272369384765625,
          0.000027179718017578125,
          0.000028133392333984375,
          0.000031948089599609375,
          0.000030994415283203125,
          0.00004100799560546875,
          0.00003409385681152344,
          0.00003504753112792969,
          0.00003790855407714844,
          0.00003886222839355469,
          0.00004410743713378906,
          0.000041961669921875,
          0.00004410743713378906,
          0.000046253204345703125
         ],
         "yaxis": "y"
        },
        {
         "hovertemplate": "variable=QUICK<br>N=%{x}<br>value=%{y}<extra></extra>",
         "legendgroup": "QUICK",
         "line": {
          "color": "#EF553B",
          "dash": "solid"
         },
         "marker": {
          "symbol": "circle"
         },
         "mode": "lines",
         "name": "QUICK",
         "orientation": "v",
         "showlegend": true,
         "type": "scatter",
         "x": [
          1000,
          2000,
          3000,
          4000,
          5000,
          6000,
          7000,
          8000,
          9000,
          10000,
          11000,
          12000,
          13000,
          14000,
          15000,
          16000,
          17000,
          18000,
          19000,
          20000,
          21000,
          22000,
          23000,
          24000,
          25000,
          26000,
          27000,
          28000,
          29000,
          30000,
          31000,
          32000,
          33000,
          34000,
          35000,
          36000,
          37000,
          38000,
          39000,
          40000,
          41000,
          42000,
          43000,
          44000,
          45000,
          46000,
          47000,
          48000,
          49000,
          50000
         ],
         "xaxis": "x",
         "y": [
          9.5367431640625e-7,
          7.152557373046875e-7,
          9.5367431640625e-7,
          9.5367431640625e-7,
          0.0000011920928955078125,
          9.5367431640625e-7,
          0.0000021457672119140625,
          0.0000019073486328125,
          0.0000019073486328125,
          0.0000030994415283203125,
          0.00000286102294921875,
          0.0000030994415283203125,
          0.000003814697265625,
          0.00000286102294921875,
          0.0000040531158447265625,
          0.00000476837158203125,
          0.000005245208740234375,
          0.000005245208740234375,
          0.000006198883056640625,
          0.000006198883056640625,
          0.0000069141387939453125,
          0.000007867813110351562,
          0.000008106231689453125,
          0.000009059906005859377,
          0.000009059906005859377,
          0.000010013580322265623,
          0.000010967254638671877,
          0.000010967254638671877,
          0.000011920928955078123,
          0.000011920928955078123,
          0.000012874603271484377,
          0.000014066696166992188,
          0.000015020370483398438,
          0.00001621246337890625,
          0.00001621246337890625,
          0.00002312660217285156,
          0.000016927719116210938,
          0.000019073486328125,
          0.00001883506774902344,
          0.00002193450927734375,
          0.0000209808349609375,
          0.000024080276489257812,
          0.00002312660217285156,
          0.000024080276489257812,
          0.000025033950805664062,
          0.000025987625122070312,
          0.000027179718017578125,
          0.000027894973754882812,
          0.000028133392333984375,
          0.000029802322387695312
         ],
         "yaxis": "y"
        },
        {
         "hovertemplate": "variable=MERGE<br>N=%{x}<br>value=%{y}<extra></extra>",
         "legendgroup": "MERGE",
         "line": {
          "color": "#00cc96",
          "dash": "solid"
         },
         "marker": {
          "symbol": "circle"
         },
         "mode": "lines",
         "name": "MERGE",
         "orientation": "v",
         "showlegend": true,
         "type": "scatter",
         "x": [
          1000,
          2000,
          3000,
          4000,
          5000,
          6000,
          7000,
          8000,
          9000,
          10000,
          11000,
          12000,
          13000,
          14000,
          15000,
          16000,
          17000,
          18000,
          19000,
          20000,
          21000,
          22000,
          23000,
          24000,
          25000,
          26000,
          27000,
          28000,
          29000,
          30000,
          31000,
          32000,
          33000,
          34000,
          35000,
          36000,
          37000,
          38000,
          39000,
          40000,
          41000,
          42000,
          43000,
          44000,
          45000,
          46000,
          47000,
          48000,
          49000,
          50000
         ],
         "xaxis": "x",
         "y": [
          0,
          0,
          9.5367431640625e-7,
          9.5367431640625e-7,
          9.5367431640625e-7,
          0.0000021457672119140625,
          0.0000016689300537109375,
          0.0000021457672119140625,
          0.00000286102294921875,
          0.0000026226043701171875,
          0.00000286102294921875,
          0.0000040531158447265625,
          0.0000040531158447265625,
          0.0000040531158447265625,
          0.0000050067901611328125,
          0.000006198883056640625,
          0.000007867813110351562,
          0.0000069141387939453125,
          0.0000069141387939453125,
          0.0000069141387939453125,
          0.000007867813110351562,
          0.000007867813110351562,
          0.000007867813110351562,
          0.000009059906005859377,
          0.000008821487426757812,
          0.000008821487426757812,
          0.000010013580322265623,
          0.000010013580322265623,
          0.000011205673217773438,
          0.000011205673217773438,
          0.000011205673217773438,
          0.000011920928955078123,
          0.000011920928955078123,
          0.000013113021850585938,
          0.000012874603271484377,
          0.000012874603271484377,
          0.000014066696166992188,
          0.000014066696166992188,
          0.000014066696166992188,
          0.000015974044799804688,
          0.000015974044799804688,
          0.000016689300537109375,
          0.000015735626220703125,
          0.000016689300537109375,
          0.000016927719116210938,
          0.00001811981201171875,
          0.000017881393432617188,
          0.000016689300537109375,
          0.000016927719116210938,
          0.00002002716064453125
         ],
         "yaxis": "y"
        },
        {
         "hovertemplate": "variable=HEAP<br>N=%{x}<br>value=%{y}<extra></extra>",
         "legendgroup": "HEAP",
         "line": {
          "color": "#ab63fa",
          "dash": "solid"
         },
         "marker": {
          "symbol": "circle"
         },
         "mode": "lines",
         "name": "HEAP",
         "orientation": "v",
         "showlegend": true,
         "type": "scatter",
         "x": [
          1000,
          2000,
          3000,
          4000,
          5000,
          6000,
          7000,
          8000,
          9000,
          10000,
          11000,
          12000,
          13000,
          14000,
          15000,
          16000,
          17000,
          18000,
          19000,
          20000,
          21000,
          22000,
          23000,
          24000,
          25000,
          26000,
          27000,
          28000,
          29000,
          30000,
          31000,
          32000,
          33000,
          34000,
          35000,
          36000,
          37000,
          38000,
          39000,
          40000,
          41000,
          42000,
          43000,
          44000,
          45000,
          46000,
          47000,
          48000,
          49000,
          50000
         ],
         "xaxis": "x",
         "y": [
          9.5367431640625e-7,
          0,
          0.0000011920928955078125,
          0,
          9.5367431640625e-7,
          9.5367431640625e-7,
          0.0000011920928955078125,
          0.0000019073486328125,
          0.0000021457672119140625,
          0.0000030994415283203125,
          0.0000030994415283203125,
          0.000003814697265625,
          0.0000040531158447265625,
          0.000005245208740234375,
          0.0000050067901611328125,
          0.000003814697265625,
          0.0000059604644775390625,
          0.000006198883056640625,
          0.0000059604644775390625,
          0.0000069141387939453125,
          0.000007390975952148437,
          0.000007152557373046875,
          0.000008106231689453125,
          0.000009059906005859377,
          0.000009059906005859377,
          0.000009298324584960938,
          0.000010013580322265623,
          0.000010967254638671877,
          0.000010967254638671877,
          0.000010967254638671877,
          0.000011920928955078123,
          0.000012159347534179688,
          0.000012159347534179688,
          0.000012874603271484377,
          0.000014066696166992188,
          0.000014066696166992188,
          0.000014781951904296877,
          0.000014781951904296877,
          0.000015020370483398438,
          0.000016927719116210938,
          0.000016927719116210938,
          0.000017881393432617188,
          0.000017881393432617188,
          0.00001931190490722656,
          0.00001883506774902344,
          0.00002002716064453125,
          0.00002002716064453125,
          0.00001811981201171875,
          0.00001883506774902344,
          0.0000209808349609375
         ],
         "yaxis": "y"
        },
        {
         "hovertemplate": "variable=INSERTION<br>N=%{x}<br>value=%{y}<extra></extra>",
         "legendgroup": "INSERTION",
         "line": {
          "color": "#FFA15A",
          "dash": "solid"
         },
         "marker": {
          "symbol": "circle"
         },
         "mode": "lines",
         "name": "INSERTION",
         "orientation": "v",
         "showlegend": true,
         "type": "scatter",
         "x": [
          1000,
          2000,
          3000,
          4000,
          5000,
          6000,
          7000,
          8000,
          9000,
          10000,
          11000,
          12000,
          13000,
          14000,
          15000,
          16000,
          17000,
          18000,
          19000,
          20000,
          21000,
          22000,
          23000,
          24000,
          25000,
          26000,
          27000,
          28000,
          29000,
          30000,
          31000,
          32000,
          33000,
          34000,
          35000,
          36000,
          37000,
          38000,
          39000,
          40000,
          41000,
          42000,
          43000,
          44000,
          45000,
          46000,
          47000,
          48000,
          49000,
          50000
         ],
         "xaxis": "x",
         "y": [
          0,
          0,
          0,
          0,
          9.5367431640625e-7,
          0,
          0,
          9.5367431640625e-7,
          0.0000019073486328125,
          0.0000021457672119140625,
          0.0000011920928955078125,
          0.0000021457672119140625,
          0.0000019073486328125,
          0.0000016689300537109375,
          0.0000030994415283203125,
          0.0000030994415283203125,
          0.0000040531158447265625,
          0.000003814697265625,
          0.0000050067901611328125,
          0.0000050067901611328125,
          0.0000057220458984375,
          0.0000069141387939453125,
          0.000007152557373046875,
          0.000007867813110351562,
          0.000008344650268554688,
          0.000007867813110351562,
          0.000010013580322265623,
          0.000010013580322265623,
          0.000010967254638671877,
          0.000011920928955078123,
          0.000011920928955078123,
          0.000012874603271484377,
          0.000013828277587890623,
          0.000015020370483398438,
          0.000015020370483398438,
          0.000015020370483398438,
          0.0000171661376953125,
          0.000018358230590820312,
          0.00002002716064453125,
          0.00001931190490722656,
          0.0000209808349609375,
          0.00002193450927734375,
          0.00002312660217285156,
          0.00002312660217285156,
          0.000025033950805664062,
          0.00002574920654296875,
          0.00002694129943847656,
          0.000026226043701171875,
          0.000027179718017578125,
          0.00003123283386230469
         ],
         "yaxis": "y"
        },
        {
         "hovertemplate": "variable=COUNTING<br>N=%{x}<br>value=%{y}<extra></extra>",
         "legendgroup": "COUNTING",
         "line": {
          "color": "#19d3f3",
          "dash": "solid"
         },
         "marker": {
          "symbol": "circle"
         },
         "mode": "lines",
         "name": "COUNTING",
         "orientation": "v",
         "showlegend": true,
         "type": "scatter",
         "x": [
          1000,
          2000,
          3000,
          4000,
          5000,
          6000,
          7000,
          8000,
          9000,
          10000,
          11000,
          12000,
          13000,
          14000,
          15000,
          16000,
          17000,
          18000,
          19000,
          20000,
          21000,
          22000,
          23000,
          24000,
          25000,
          26000,
          27000,
          28000,
          29000,
          30000,
          31000,
          32000,
          33000,
          34000,
          35000,
          36000,
          37000,
          38000,
          39000,
          40000,
          41000,
          42000,
          43000,
          44000,
          45000,
          46000,
          47000,
          48000,
          49000,
          50000
         ],
         "xaxis": "x",
         "y": [
          9.5367431640625e-7,
          9.5367431640625e-7,
          0.000029802322387695312,
          0.00005888938903808594,
          0.00008487701416015625,
          0.0001161098480224,
          0.0001370906829833,
          0.0001630783081054,
          0.0002079010009765,
          0.0002398490905761,
          0.0002789497375488,
          0.0003330707550048,
          0.0003180503845214,
          0.0003449916839599,
          0.0004069805145263,
          0.0004060268402099,
          0.0004448890686035,
          0.000493049621582,
          0.0004980564117431,
          0.0005121231079101,
          0.0005800724029541,
          0.0005791187286376,
          0.0006296634674072,
          0.0006999969482421,
          0.0007238388061523,
          0.0006778240203857,
          0.0008230209350585,
          0.0007238388061523,
          0.0007789134979248,
          0.0008478164672851,
          0.0008399486541748,
          0.0008728504180908,
          0.0009541511535644,
          0.0008718967437744,
          0.0009717941284179,
          0.0010488033294677,
          0.0010240077972412,
          0.0010359287261962,
          0.001194953918457,
          0.0010879039764404,
          0.0011513233184814,
          0.0012400150299072,
          0.0011780261993408,
          0.0011570453643798,
          0.0013151168823242,
          0.0012781620025634,
          0.0012869834899902,
          0.0013799667358398,
          0.0013749599456787,
          0.0014269351959228
         ],
         "yaxis": "y"
        }
       ],
       "layout": {
        "legend": {
         "title": {
          "text": "variable"
         },
         "tracegroupgap": 0
        },
        "template": {
         "data": {
          "bar": [
           {
            "error_x": {
             "color": "#2a3f5f"
            },
            "error_y": {
             "color": "#2a3f5f"
            },
            "marker": {
             "line": {
              "color": "#E5ECF6",
              "width": 0.5
             },
             "pattern": {
              "fillmode": "overlay",
              "size": 10,
              "solidity": 0.2
             }
            },
            "type": "bar"
           }
          ],
          "barpolar": [
           {
            "marker": {
             "line": {
              "color": "#E5ECF6",
              "width": 0.5
             },
             "pattern": {
              "fillmode": "overlay",
              "size": 10,
              "solidity": 0.2
             }
            },
            "type": "barpolar"
           }
          ],
          "carpet": [
           {
            "aaxis": {
             "endlinecolor": "#2a3f5f",
             "gridcolor": "white",
             "linecolor": "white",
             "minorgridcolor": "white",
             "startlinecolor": "#2a3f5f"
            },
            "baxis": {
             "endlinecolor": "#2a3f5f",
             "gridcolor": "white",
             "linecolor": "white",
             "minorgridcolor": "white",
             "startlinecolor": "#2a3f5f"
            },
            "type": "carpet"
           }
          ],
          "choropleth": [
           {
            "colorbar": {
             "outlinewidth": 0,
             "ticks": ""
            },
            "type": "choropleth"
           }
          ],
          "contour": [
           {
            "colorbar": {
             "outlinewidth": 0,
             "ticks": ""
            },
            "colorscale": [
             [
              0,
              "#0d0887"
             ],
             [
              0.1111111111111111,
              "#46039f"
             ],
             [
              0.2222222222222222,
              "#7201a8"
             ],
             [
              0.3333333333333333,
              "#9c179e"
             ],
             [
              0.4444444444444444,
              "#bd3786"
             ],
             [
              0.5555555555555556,
              "#d8576b"
             ],
             [
              0.6666666666666666,
              "#ed7953"
             ],
             [
              0.7777777777777778,
              "#fb9f3a"
             ],
             [
              0.8888888888888888,
              "#fdca26"
             ],
             [
              1,
              "#f0f921"
             ]
            ],
            "type": "contour"
           }
          ],
          "contourcarpet": [
           {
            "colorbar": {
             "outlinewidth": 0,
             "ticks": ""
            },
            "type": "contourcarpet"
           }
          ],
          "heatmap": [
           {
            "colorbar": {
             "outlinewidth": 0,
             "ticks": ""
            },
            "colorscale": [
             [
              0,
              "#0d0887"
             ],
             [
              0.1111111111111111,
              "#46039f"
             ],
             [
              0.2222222222222222,
              "#7201a8"
             ],
             [
              0.3333333333333333,
              "#9c179e"
             ],
             [
              0.4444444444444444,
              "#bd3786"
             ],
             [
              0.5555555555555556,
              "#d8576b"
             ],
             [
              0.6666666666666666,
              "#ed7953"
             ],
             [
              0.7777777777777778,
              "#fb9f3a"
             ],
             [
              0.8888888888888888,
              "#fdca26"
             ],
             [
              1,
              "#f0f921"
             ]
            ],
            "type": "heatmap"
           }
          ],
          "heatmapgl": [
           {
            "colorbar": {
             "outlinewidth": 0,
             "ticks": ""
            },
            "colorscale": [
             [
              0,
              "#0d0887"
             ],
             [
              0.1111111111111111,
              "#46039f"
             ],
             [
              0.2222222222222222,
              "#7201a8"
             ],
             [
              0.3333333333333333,
              "#9c179e"
             ],
             [
              0.4444444444444444,
              "#bd3786"
             ],
             [
              0.5555555555555556,
              "#d8576b"
             ],
             [
              0.6666666666666666,
              "#ed7953"
             ],
             [
              0.7777777777777778,
              "#fb9f3a"
             ],
             [
              0.8888888888888888,
              "#fdca26"
             ],
             [
              1,
              "#f0f921"
             ]
            ],
            "type": "heatmapgl"
           }
          ],
          "histogram": [
           {
            "marker": {
             "pattern": {
              "fillmode": "overlay",
              "size": 10,
              "solidity": 0.2
             }
            },
            "type": "histogram"
           }
          ],
          "histogram2d": [
           {
            "colorbar": {
             "outlinewidth": 0,
             "ticks": ""
            },
            "colorscale": [
             [
              0,
              "#0d0887"
             ],
             [
              0.1111111111111111,
              "#46039f"
             ],
             [
              0.2222222222222222,
              "#7201a8"
             ],
             [
              0.3333333333333333,
              "#9c179e"
             ],
             [
              0.4444444444444444,
              "#bd3786"
             ],
             [
              0.5555555555555556,
              "#d8576b"
             ],
             [
              0.6666666666666666,
              "#ed7953"
             ],
             [
              0.7777777777777778,
              "#fb9f3a"
             ],
             [
              0.8888888888888888,
              "#fdca26"
             ],
             [
              1,
              "#f0f921"
             ]
            ],
            "type": "histogram2d"
           }
          ],
          "histogram2dcontour": [
           {
            "colorbar": {
             "outlinewidth": 0,
             "ticks": ""
            },
            "colorscale": [
             [
              0,
              "#0d0887"
             ],
             [
              0.1111111111111111,
              "#46039f"
             ],
             [
              0.2222222222222222,
              "#7201a8"
             ],
             [
              0.3333333333333333,
              "#9c179e"
             ],
             [
              0.4444444444444444,
              "#bd3786"
             ],
             [
              0.5555555555555556,
              "#d8576b"
             ],
             [
              0.6666666666666666,
              "#ed7953"
             ],
             [
              0.7777777777777778,
              "#fb9f3a"
             ],
             [
              0.8888888888888888,
              "#fdca26"
             ],
             [
              1,
              "#f0f921"
             ]
            ],
            "type": "histogram2dcontour"
           }
          ],
          "mesh3d": [
           {
            "colorbar": {
             "outlinewidth": 0,
             "ticks": ""
            },
            "type": "mesh3d"
           }
          ],
          "parcoords": [
           {
            "line": {
             "colorbar": {
              "outlinewidth": 0,
              "ticks": ""
             }
            },
            "type": "parcoords"
           }
          ],
          "pie": [
           {
            "automargin": true,
            "type": "pie"
           }
          ],
          "scatter": [
           {
            "fillpattern": {
             "fillmode": "overlay",
             "size": 10,
             "solidity": 0.2
            },
            "type": "scatter"
           }
          ],
          "scatter3d": [
           {
            "line": {
             "colorbar": {
              "outlinewidth": 0,
              "ticks": ""
             }
            },
            "marker": {
             "colorbar": {
              "outlinewidth": 0,
              "ticks": ""
             }
            },
            "type": "scatter3d"
           }
          ],
          "scattercarpet": [
           {
            "marker": {
             "colorbar": {
              "outlinewidth": 0,
              "ticks": ""
             }
            },
            "type": "scattercarpet"
           }
          ],
          "scattergeo": [
           {
            "marker": {
             "colorbar": {
              "outlinewidth": 0,
              "ticks": ""
             }
            },
            "type": "scattergeo"
           }
          ],
          "scattergl": [
           {
            "marker": {
             "colorbar": {
              "outlinewidth": 0,
              "ticks": ""
             }
            },
            "type": "scattergl"
           }
          ],
          "scattermapbox": [
           {
            "marker": {
             "colorbar": {
              "outlinewidth": 0,
              "ticks": ""
             }
            },
            "type": "scattermapbox"
           }
          ],
          "scatterpolar": [
           {
            "marker": {
             "colorbar": {
              "outlinewidth": 0,
              "ticks": ""
             }
            },
            "type": "scatterpolar"
           }
          ],
          "scatterpolargl": [
           {
            "marker": {
             "colorbar": {
              "outlinewidth": 0,
              "ticks": ""
             }
            },
            "type": "scatterpolargl"
           }
          ],
          "scatterternary": [
           {
            "marker": {
             "colorbar": {
              "outlinewidth": 0,
              "ticks": ""
             }
            },
            "type": "scatterternary"
           }
          ],
          "surface": [
           {
            "colorbar": {
             "outlinewidth": 0,
             "ticks": ""
            },
            "colorscale": [
             [
              0,
              "#0d0887"
             ],
             [
              0.1111111111111111,
              "#46039f"
             ],
             [
              0.2222222222222222,
              "#7201a8"
             ],
             [
              0.3333333333333333,
              "#9c179e"
             ],
             [
              0.4444444444444444,
              "#bd3786"
             ],
             [
              0.5555555555555556,
              "#d8576b"
             ],
             [
              0.6666666666666666,
              "#ed7953"
             ],
             [
              0.7777777777777778,
              "#fb9f3a"
             ],
             [
              0.8888888888888888,
              "#fdca26"
             ],
             [
              1,
              "#f0f921"
             ]
            ],
            "type": "surface"
           }
          ],
          "table": [
           {
            "cells": {
             "fill": {
              "color": "#EBF0F8"
             },
             "line": {
              "color": "white"
             }
            },
            "header": {
             "fill": {
              "color": "#C8D4E3"
             },
             "line": {
              "color": "white"
             }
            },
            "type": "table"
           }
          ]
         },
         "layout": {
          "annotationdefaults": {
           "arrowcolor": "#2a3f5f",
           "arrowhead": 0,
           "arrowwidth": 1
          },
          "autotypenumbers": "strict",
          "coloraxis": {
           "colorbar": {
            "outlinewidth": 0,
            "ticks": ""
           }
          },
          "colorscale": {
           "diverging": [
            [
             0,
             "#8e0152"
            ],
            [
             0.1,
             "#c51b7d"
            ],
            [
             0.2,
             "#de77ae"
            ],
            [
             0.3,
             "#f1b6da"
            ],
            [
             0.4,
             "#fde0ef"
            ],
            [
             0.5,
             "#f7f7f7"
            ],
            [
             0.6,
             "#e6f5d0"
            ],
            [
             0.7,
             "#b8e186"
            ],
            [
             0.8,
             "#7fbc41"
            ],
            [
             0.9,
             "#4d9221"
            ],
            [
             1,
             "#276419"
            ]
           ],
           "sequential": [
            [
             0,
             "#0d0887"
            ],
            [
             0.1111111111111111,
             "#46039f"
            ],
            [
             0.2222222222222222,
             "#7201a8"
            ],
            [
             0.3333333333333333,
             "#9c179e"
            ],
            [
             0.4444444444444444,
             "#bd3786"
            ],
            [
             0.5555555555555556,
             "#d8576b"
            ],
            [
             0.6666666666666666,
             "#ed7953"
            ],
            [
             0.7777777777777778,
             "#fb9f3a"
            ],
            [
             0.8888888888888888,
             "#fdca26"
            ],
            [
             1,
             "#f0f921"
            ]
           ],
           "sequentialminus": [
            [
             0,
             "#0d0887"
            ],
            [
             0.1111111111111111,
             "#46039f"
            ],
            [
             0.2222222222222222,
             "#7201a8"
            ],
            [
             0.3333333333333333,
             "#9c179e"
            ],
            [
             0.4444444444444444,
             "#bd3786"
            ],
            [
             0.5555555555555556,
             "#d8576b"
            ],
            [
             0.6666666666666666,
             "#ed7953"
            ],
            [
             0.7777777777777778,
             "#fb9f3a"
            ],
            [
             0.8888888888888888,
             "#fdca26"
            ],
            [
             1,
             "#f0f921"
            ]
           ]
          },
          "colorway": [
           "#636efa",
           "#EF553B",
           "#00cc96",
           "#ab63fa",
           "#FFA15A",
           "#19d3f3",
           "#FF6692",
           "#B6E880",
           "#FF97FF",
           "#FECB52"
          ],
          "font": {
           "color": "#2a3f5f"
          },
          "geo": {
           "bgcolor": "white",
           "lakecolor": "white",
           "landcolor": "#E5ECF6",
           "showlakes": true,
           "showland": true,
           "subunitcolor": "white"
          },
          "hoverlabel": {
           "align": "left"
          },
          "hovermode": "closest",
          "mapbox": {
           "style": "light"
          },
          "paper_bgcolor": "white",
          "plot_bgcolor": "#E5ECF6",
          "polar": {
           "angularaxis": {
            "gridcolor": "white",
            "linecolor": "white",
            "ticks": ""
           },
           "bgcolor": "#E5ECF6",
           "radialaxis": {
            "gridcolor": "white",
            "linecolor": "white",
            "ticks": ""
           }
          },
          "scene": {
           "xaxis": {
            "backgroundcolor": "#E5ECF6",
            "gridcolor": "white",
            "gridwidth": 2,
            "linecolor": "white",
            "showbackground": true,
            "ticks": "",
            "zerolinecolor": "white"
           },
           "yaxis": {
            "backgroundcolor": "#E5ECF6",
            "gridcolor": "white",
            "gridwidth": 2,
            "linecolor": "white",
            "showbackground": true,
            "ticks": "",
            "zerolinecolor": "white"
           },
           "zaxis": {
            "backgroundcolor": "#E5ECF6",
            "gridcolor": "white",
            "gridwidth": 2,
            "linecolor": "white",
            "showbackground": true,
            "ticks": "",
            "zerolinecolor": "white"
           }
          },
          "shapedefaults": {
           "line": {
            "color": "#2a3f5f"
           }
          },
          "ternary": {
           "aaxis": {
            "gridcolor": "white",
            "linecolor": "white",
            "ticks": ""
           },
           "baxis": {
            "gridcolor": "white",
            "linecolor": "white",
            "ticks": ""
           },
           "bgcolor": "#E5ECF6",
           "caxis": {
            "gridcolor": "white",
            "linecolor": "white",
            "ticks": ""
           }
          },
          "title": {
           "x": 0.05
          },
          "xaxis": {
           "automargin": true,
           "gridcolor": "white",
           "linecolor": "white",
           "ticks": "",
           "title": {
            "standoff": 15
           },
           "zerolinecolor": "white",
           "zerolinewidth": 2
          },
          "yaxis": {
           "automargin": true,
           "gridcolor": "white",
           "linecolor": "white",
           "ticks": "",
           "title": {
            "standoff": 15
           },
           "zerolinecolor": "white",
           "zerolinewidth": 2
          }
         }
        },
        "title": {
         "text": "REVERSE"
        },
        "xaxis": {
         "anchor": "y",
         "domain": [
          0,
          1
         ],
         "title": {
          "text": "N"
         }
        },
        "yaxis": {
         "anchor": "x",
         "domain": [
          0,
          1
         ],
         "title": {
          "text": "value"
         }
        }
       }
      }
     },
     "metadata": {},
     "output_type": "display_data"
    },
    {
     "data": {
      "image/png": "[encoded data removed]",
      "text/plain": [
       "<Figure size 640x480 with 1 Axes>"
      ]
     },
     "metadata": {},
     "output_type": "display_data"
    },
    {
     "data": {
      "application/vnd.plotly.v1+json": {
       "config": {
        "plotlyServerURL": "https://plot.ly"
       },
       "data": [
        {
         "hovertemplate": "variable=BUBBLE<br>N=%{x}<br>value=%{y}<extra></extra>",
         "legendgroup": "BUBBLE",
         "line": {
          "color": "#636efa",
          "dash": "solid"
         },
         "marker": {
          "symbol": "circle"
         },
         "mode": "lines",
         "name": "BUBBLE",
         "orientation": "v",
         "showlegend": true,
         "type": "scatter",
         "x": [
          1000,
          2000,
          3000,
          4000,
          5000,
          6000,
          7000,
          8000,
          9000,
          10000,
          11000,
          12000,
          13000,
          14000,
          15000,
          16000,
          17000,
          18000,
          19000,
          20000,
          21000,
          22000,
          23000,
          24000,
          25000,
          26000,
          27000,
          28000,
          29000,
          30000,
          31000,
          32000,
          33000,
          34000,
          35000,
          36000,
          37000,
          38000,
          39000,
          40000,
          41000,
          42000,
          43000,
          44000,
          45000,
          46000,
          47000,
          48000,
          49000,
          50000
         ],
         "xaxis": "x",
         "y": [
          9.5367431640625e-7,
          0,
          0,
          0,
          9.5367431640625e-7,
          7.152557373046875e-7,
          9.5367431640625e-7,
          9.5367431640625e-7,
          9.5367431640625e-7,
          0.0000011920928955078125,
          0.0000021457672119140625,
          0.0000019073486328125,
          0.0000026226043701171875,
          0.0000021457672119140625,
          0.00000286102294921875,
          0.0000030994415283203125,
          0.000003814697265625,
          0.000003814697265625,
          0.000004291534423828125,
          0.00000476837158203125,
          0.000004291534423828125,
          0.0000050067901611328125,
          0.0000040531158447265625,
          0.0000050067901611328125,
          0.0000057220458984375,
          0.0000057220458984375,
          0.0000069141387939453125,
          0.000008344650268554688,
          0.000008106231689453125,
          0.000008344650268554688,
          0.000008821487426757812,
          0.000008821487426757812,
          0.000010013580322265623,
          0.000012159347534179688,
          0.000010728836059570312,
          0.000011920928955078123,
          0.000010967254638671877,
          0.000011682510375976562,
          0.000012159347534179688,
          0.000016927719116210938,
          0.0000152587890625,
          0.000016927719116210938,
          0.000014066696166992188,
          0.000016927719116210938,
          0.000016689300537109375,
          0.000017881393432617188,
          0.000017881393432617188,
          0.00001931190490722656,
          0.000019788742065429688,
          0.0000209808349609375
         ],
         "yaxis": "y"
        },
        {
         "hovertemplate": "variable=QUICK<br>N=%{x}<br>value=%{y}<extra></extra>",
         "legendgroup": "QUICK",
         "line": {
          "color": "#EF553B",
          "dash": "solid"
         },
         "marker": {
          "symbol": "circle"
         },
         "mode": "lines",
         "name": "QUICK",
         "orientation": "v",
         "showlegend": true,
         "type": "scatter",
         "x": [
          1000,
          2000,
          3000,
          4000,
          5000,
          6000,
          7000,
          8000,
          9000,
          10000,
          11000,
          12000,
          13000,
          14000,
          15000,
          16000,
          17000,
          18000,
          19000,
          20000,
          21000,
          22000,
          23000,
          24000,
          25000,
          26000,
          27000,
          28000,
          29000,
          30000,
          31000,
          32000,
          33000,
          34000,
          35000,
          36000,
          37000,
          38000,
          39000,
          40000,
          41000,
          42000,
          43000,
          44000,
          45000,
          46000,
          47000,
          48000,
          49000,
          50000
         ],
         "xaxis": "x",
         "y": [
          0,
          9.5367431640625e-7,
          9.5367431640625e-7,
          0.0000011920928955078125,
          9.5367431640625e-7,
          0.0000021457672119140625,
          9.5367431640625e-7,
          0.0000021457672119140625,
          0.0000021457672119140625,
          0.0000021457672119140625,
          0.000003814697265625,
          0.0000040531158447265625,
          0.000004291534423828125,
          0.0000050067901611328125,
          0.0000050067901611328125,
          0.0000059604644775390625,
          0.000008106231689453125,
          0.000007152557373046875,
          0.0000069141387939453125,
          0.000010013580322265623,
          0.000008106231689453125,
          0.000009059906005859377,
          0.000009059906005859377,
          0.000010013580322265623,
          0.000012159347534179688,
          0.000012159347534179688,
          0.000014066696166992188,
          0.000013828277587890623,
          0.000015974044799804688,
          0.000015735626220703125,
          0.00001811981201171875,
          0.000019073486328125,
          0.000019788742065429688,
          0.000025033950805664062,
          0.0000209808349609375,
          0.000022172927856445312,
          0.00002384185791015625,
          0.000025033950805664062,
          0.000025987625122070312,
          0.000029087066650390625,
          0.00004673004150390625,
          0.00003504753112792969,
          0.000028848648071289062,
          0.000031948089599609375,
          0.00003409385681152344,
          0.00003695487976074219,
          0.00004315376281738281,
          0.00003886222839355469,
          0.0000400543212890625,
          0.00004100799560546875
         ],
         "yaxis": "y"
        },
        {
         "hovertemplate": "variable=MERGE<br>N=%{x}<br>value=%{y}<extra></extra>",
         "legendgroup": "MERGE",
         "line": {
          "color": "#00cc96",
          "dash": "solid"
         },
         "marker": {
          "symbol": "circle"
         },
         "mode": "lines",
         "name": "MERGE",
         "orientation": "v",
         "showlegend": true,
         "type": "scatter",
         "x": [
          1000,
          2000,
          3000,
          4000,
          5000,
          6000,
          7000,
          8000,
          9000,
          10000,
          11000,
          12000,
          13000,
          14000,
          15000,
          16000,
          17000,
          18000,
          19000,
          20000,
          21000,
          22000,
          23000,
          24000,
          25000,
          26000,
          27000,
          28000,
          29000,
          30000,
          31000,
          32000,
          33000,
          34000,
          35000,
          36000,
          37000,
          38000,
          39000,
          40000,
          41000,
          42000,
          43000,
          44000,
          45000,
          46000,
          47000,
          48000,
          49000,
          50000
         ],
         "xaxis": "x",
         "y": [
          0,
          0,
          9.5367431640625e-7,
          9.5367431640625e-7,
          0.0000021457672119140625,
          9.5367431640625e-7,
          0.0000019073486328125,
          0.0000019073486328125,
          0.0000030994415283203125,
          0.0000026226043701171875,
          0.0000030994415283203125,
          0.0000030994415283203125,
          0.0000040531158447265625,
          0.000003814697265625,
          0.0000050067901611328125,
          0.0000050067901611328125,
          0.0000069141387939453125,
          0.0000057220458984375,
          0.0000057220458984375,
          0.000009775161743164062,
          0.0000069141387939453125,
          0.0000069141387939453125,
          0.000007867813110351562,
          0.000007867813110351562,
          0.000007867813110351562,
          0.000009059906005859377,
          0.000008821487426757812,
          0.000009059906005859377,
          0.000010967254638671877,
          0.000011205673217773438,
          0.000010967254638671877,
          0.000011920928955078123,
          0.000012159347534179688,
          0.000014781951904296877,
          0.000011920928955078123,
          0.000012636184692382812,
          0.000013113021850585938,
          0.000014066696166992188,
          0.000013828277587890623,
          0.000015020370483398438,
          0.00002384185791015625,
          0.000017881393432617188,
          0.000015020370483398438,
          0.000016927719116210938,
          0.000015974044799804688,
          0.000016927719116210938,
          0.00002193450927734375,
          0.000017881393432617188,
          0.000017881393432617188,
          0.00002002716064453125
         ],
         "yaxis": "y"
        },
        {
         "hovertemplate": "variable=HEAP<br>N=%{x}<br>value=%{y}<extra></extra>",
         "legendgroup": "HEAP",
         "line": {
          "color": "#ab63fa",
          "dash": "solid"
         },
         "marker": {
          "symbol": "circle"
         },
         "mode": "lines",
         "name": "HEAP",
         "orientation": "v",
         "showlegend": true,
         "type": "scatter",
         "x": [
          1000,
          2000,
          3000,
          4000,
          5000,
          6000,
          7000,
          8000,
          9000,
          10000,
          11000,
          12000,
          13000,
          14000,
          15000,
          16000,
          17000,
          18000,
          19000,
          20000,
          21000,
          22000,
          23000,
          24000,
          25000,
          26000,
          27000,
          28000,
          29000,
          30000,
          31000,
          32000,
          33000,
          34000,
          35000,
          36000,
          37000,
          38000,
          39000,
          40000,
          41000,
          42000,
          43000,
          44000,
          45000,
          46000,
          47000,
          48000,
          49000,
          50000
         ],
         "xaxis": "x",
         "y": [
          9.5367431640625e-7,
          0,
          0.0000011920928955078125,
          9.5367431640625e-7,
          7.152557373046875e-7,
          0.0000011920928955078125,
          0.0000021457672119140625,
          0.0000021457672119140625,
          0.0000026226043701171875,
          0.0000030994415283203125,
          0.0000040531158447265625,
          0.000003814697265625,
          0.00000476837158203125,
          0.0000050067901611328125,
          0.0000059604644775390625,
          0.0000059604644775390625,
          0.000009059906005859377,
          0.0000069141387939453125,
          0.000008344650268554688,
          0.000010013580322265623,
          0.000007867813110351562,
          0.000008821487426757812,
          0.000008821487426757812,
          0.000009059906005859377,
          0.000010251998901367188,
          0.000010967254638671877,
          0.000011205673217773438,
          0.000011920928955078123,
          0.000013113021850585938,
          0.000012874603271484377,
          0.000015020370483398438,
          0.000019073486328125,
          0.000015020370483398438,
          0.00002002716064453125,
          0.0000171661376953125,
          0.000018358230590820312,
          0.000016927719116210938,
          0.000019073486328125,
          0.000020265579223632812,
          0.0000209808349609375,
          0.000029087066650390625,
          0.00002312660217285156,
          0.00002002716064453125,
          0.00002312660217285156,
          0.000025033950805664062,
          0.000024080276489257812,
          0.000024080276489257812,
          0.000028848648071289062,
          0.000026226043701171875,
          0.00002574920654296875
         ],
         "yaxis": "y"
        },
        {
         "hovertemplate": "variable=INSERTION<br>N=%{x}<br>value=%{y}<extra></extra>",
         "legendgroup": "INSERTION",
         "line": {
          "color": "#FFA15A",
          "dash": "solid"
         },
         "marker": {
          "symbol": "circle"
         },
         "mode": "lines",
         "name": "INSERTION",
         "orientation": "v",
         "showlegend": true,
         "type": "scatter",
         "x": [
          1000,
          2000,
          3000,
          4000,
          5000,
          6000,
          7000,
          8000,
          9000,
          10000,
          11000,
          12000,
          13000,
          14000,
          15000,
          16000,
          17000,
          18000,
          19000,
          20000,
          21000,
          22000,
          23000,
          24000,
          25000,
          26000,
          27000,
          28000,
          29000,
          30000,
          31000,
          32000,
          33000,
          34000,
          35000,
          36000,
          37000,
          38000,
          39000,
          40000,
          41000,
          42000,
          43000,
          44000,
          45000,
          46000,
          47000,
          48000,
          49000,
          50000
         ],
         "xaxis": "x",
         "y": [
          0,
          0,
          0,
          0,
          0.0000011920928955078125,
          9.5367431640625e-7,
          0,
          7.152557373046875e-7,
          0,
          0,
          9.5367431640625e-7,
          0,
          0.0000011920928955078125,
          7.152557373046875e-7,
          0,
          0,
          9.5367431640625e-7,
          0.0000011920928955078125,
          9.5367431640625e-7,
          9.5367431640625e-7,
          0.0000011920928955078125,
          0.0000011920928955078125,
          0.0000011920928955078125,
          9.5367431640625e-7,
          0,
          9.5367431640625e-7,
          9.5367431640625e-7,
          9.5367431640625e-7,
          9.5367431640625e-7,
          0.0000011920928955078125,
          9.5367431640625e-7,
          9.5367431640625e-7,
          0.0000021457672119140625,
          0.0000021457672119140625,
          7.152557373046875e-7,
          9.5367431640625e-7,
          0.0000011920928955078125,
          9.5367431640625e-7,
          7.152557373046875e-7,
          0.0000011920928955078125,
          0.0000019073486328125,
          0.0000021457672119140625,
          9.5367431640625e-7,
          0.0000021457672119140625,
          0.0000021457672119140625,
          9.5367431640625e-7,
          0.0000019073486328125,
          0.0000021457672119140625,
          0.0000019073486328125,
          0.0000021457672119140625
         ],
         "yaxis": "y"
        },
        {
         "hovertemplate": "variable=COUNTING<br>N=%{x}<br>value=%{y}<extra></extra>",
         "legendgroup": "COUNTING",
         "line": {
          "color": "#19d3f3",
          "dash": "solid"
         },
         "marker": {
          "symbol": "circle"
         },
         "mode": "lines",
         "name": "COUNTING",
         "orientation": "v",
         "showlegend": true,
         "type": "scatter",
         "x": [
          1000,
          2000,
          3000,
          4000,
          5000,
          6000,
          7000,
          8000,
          9000,
          10000,
          11000,
          12000,
          13000,
          14000,
          15000,
          16000,
          17000,
          18000,
          19000,
          20000,
          21000,
          22000,
          23000,
          24000,
          25000,
          26000,
          27000,
          28000,
          29000,
          30000,
          31000,
          32000,
          33000,
          34000,
          35000,
          36000,
          37000,
          38000,
          39000,
          40000,
          41000,
          42000,
          43000,
          44000,
          45000,
          46000,
          47000,
          48000,
          49000,
          50000
         ],
         "xaxis": "x",
         "y": [
          0.0000011920928955078125,
          0.0000011920928955078125,
          0.000028848648071289062,
          0.00006175041198730469,
          0.00009298324584960938,
          0.0001101493835449,
          0.0001418590545654,
          0.0001609325408935,
          0.0002071857452392,
          0.0002429485321044,
          0.0002610683441162,
          0.000291109085083,
          0.0003368854522705,
          0.0003614425659179,
          0.0004007816314697,
          0.000460147857666,
          0.000385046005249,
          0.0004060268402099,
          0.0005037784576416,
          0.000493049621582,
          0.0004909038543701,
          0.0005109310150146,
          0.0005199909210205,
          0.0005431175231933,
          0.0005810260772705,
          0.0006070137023925,
          0.0006520748138427,
          0.000690221786499,
          0.0007271766662597,
          0.0007407665252685,
          0.0007660388946533,
          0.0007879734039306,
          0.0008659362792968,
          0.0008590221405029,
          0.0008649826049804,
          0.000870943069458,
          0.0009541511535644,
          0.000972032546997,
          0.0010051727294921,
          0.0010569095611572,
          0.0010209083557128,
          0.0010278224945068,
          0.0011560916900634,
          0.0011708736419677,
          0.0011909008026123,
          0.0011868476867675,
          0.0013041496276855,
          0.0012822151184082,
          0.0012779235839843,
          0.0014190673828125
         ],
         "yaxis": "y"
        }
       ],
       "layout": {
        "legend": {
         "title": {
          "text": "variable"
         },
         "tracegroupgap": 0
        },
        "template": {
         "data": {
          "bar": [
           {
            "error_x": {
             "color": "#2a3f5f"
            },
            "error_y": {
             "color": "#2a3f5f"
            },
            "marker": {
             "line": {
              "color": "#E5ECF6",
              "width": 0.5
             },
             "pattern": {
              "fillmode": "overlay",
              "size": 10,
              "solidity": 0.2
             }
            },
            "type": "bar"
           }
          ],
          "barpolar": [
           {
            "marker": {
             "line": {
              "color": "#E5ECF6",
              "width": 0.5
             },
             "pattern": {
              "fillmode": "overlay",
              "size": 10,
              "solidity": 0.2
             }
            },
            "type": "barpolar"
           }
          ],
          "carpet": [
           {
            "aaxis": {
             "endlinecolor": "#2a3f5f",
             "gridcolor": "white",
             "linecolor": "white",
             "minorgridcolor": "white",
             "startlinecolor": "#2a3f5f"
            },
            "baxis": {
             "endlinecolor": "#2a3f5f",
             "gridcolor": "white",
             "linecolor": "white",
             "minorgridcolor": "white",
             "startlinecolor": "#2a3f5f"
            },
            "type": "carpet"
           }
          ],
          "choropleth": [
           {
            "colorbar": {
             "outlinewidth": 0,
             "ticks": ""
            },
            "type": "choropleth"
           }
          ],
          "contour": [
           {
            "colorbar": {
             "outlinewidth": 0,
             "ticks": ""
            },
            "colorscale": [
             [
              0,
              "#0d0887"
             ],
             [
              0.1111111111111111,
              "#46039f"
             ],
             [
              0.2222222222222222,
              "#7201a8"
             ],
             [
              0.3333333333333333,
              "#9c179e"
             ],
             [
              0.4444444444444444,
              "#bd3786"
             ],
             [
              0.5555555555555556,
              "#d8576b"
             ],
             [
              0.6666666666666666,
              "#ed7953"
             ],
             [
              0.7777777777777778,
              "#fb9f3a"
             ],
             [
              0.8888888888888888,
              "#fdca26"
             ],
             [
              1,
              "#f0f921"
             ]
            ],
            "type": "contour"
           }
          ],
          "contourcarpet": [
           {
            "colorbar": {
             "outlinewidth": 0,
             "ticks": ""
            },
            "type": "contourcarpet"
           }
          ],
          "heatmap": [
           {
            "colorbar": {
             "outlinewidth": 0,
             "ticks": ""
            },
            "colorscale": [
             [
              0,
              "#0d0887"
             ],
             [
              0.1111111111111111,
              "#46039f"
             ],
             [
              0.2222222222222222,
              "#7201a8"
             ],
             [
              0.3333333333333333,
              "#9c179e"
             ],
             [
              0.4444444444444444,
              "#bd3786"
             ],
             [
              0.5555555555555556,
              "#d8576b"
             ],
             [
              0.6666666666666666,
              "#ed7953"
             ],
             [
              0.7777777777777778,
              "#fb9f3a"
             ],
             [
              0.8888888888888888,
              "#fdca26"
             ],
             [
              1,
              "#f0f921"
             ]
            ],
            "type": "heatmap"
           }
          ],
          "heatmapgl": [
           {
            "colorbar": {
             "outlinewidth": 0,
             "ticks": ""
            },
            "colorscale": [
             [
              0,
              "#0d0887"
             ],
             [
              0.1111111111111111,
              "#46039f"
             ],
             [
              0.2222222222222222,
              "#7201a8"
             ],
             [
              0.3333333333333333,
              "#9c179e"
             ],
             [
              0.4444444444444444,
              "#bd3786"
             ],
             [
              0.5555555555555556,
              "#d8576b"
             ],
             [
              0.6666666666666666,
              "#ed7953"
             ],
             [
              0.7777777777777778,
              "#fb9f3a"
             ],
             [
              0.8888888888888888,
              "#fdca26"
             ],
             [
              1,
              "#f0f921"
             ]
            ],
            "type": "heatmapgl"
           }
          ],
          "histogram": [
           {
            "marker": {
             "pattern": {
              "fillmode": "overlay",
              "size": 10,
              "solidity": 0.2
             }
            },
            "type": "histogram"
           }
          ],
          "histogram2d": [
           {
            "colorbar": {
             "outlinewidth": 0,
             "ticks": ""
            },
            "colorscale": [
             [
              0,
              "#0d0887"
             ],
             [
              0.1111111111111111,
              "#46039f"
             ],
             [
              0.2222222222222222,
              "#7201a8"
             ],
             [
              0.3333333333333333,
              "#9c179e"
             ],
             [
              0.4444444444444444,
              "#bd3786"
             ],
             [
              0.5555555555555556,
              "#d8576b"
             ],
             [
              0.6666666666666666,
              "#ed7953"
             ],
             [
              0.7777777777777778,
              "#fb9f3a"
             ],
             [
              0.8888888888888888,
              "#fdca26"
             ],
             [
              1,
              "#f0f921"
             ]
            ],
            "type": "histogram2d"
           }
          ],
          "histogram2dcontour": [
           {
            "colorbar": {
             "outlinewidth": 0,
             "ticks": ""
            },
            "colorscale": [
             [
              0,
              "#0d0887"
             ],
             [
              0.1111111111111111,
              "#46039f"
             ],
             [
              0.2222222222222222,
              "#7201a8"
             ],
             [
              0.3333333333333333,
              "#9c179e"
             ],
             [
              0.4444444444444444,
              "#bd3786"
             ],
             [
              0.5555555555555556,
              "#d8576b"
             ],
             [
              0.6666666666666666,
              "#ed7953"
             ],
             [
              0.7777777777777778,
              "#fb9f3a"
             ],
             [
              0.8888888888888888,
              "#fdca26"
             ],
             [
              1,
              "#f0f921"
             ]
            ],
            "type": "histogram2dcontour"
           }
          ],
          "mesh3d": [
           {
            "colorbar": {
             "outlinewidth": 0,
             "ticks": ""
            },
            "type": "mesh3d"
           }
          ],
          "parcoords": [
           {
            "line": {
             "colorbar": {
              "outlinewidth": 0,
              "ticks": ""
             }
            },
            "type": "parcoords"
           }
          ],
          "pie": [
           {
            "automargin": true,
            "type": "pie"
           }
          ],
          "scatter": [
           {
            "fillpattern": {
             "fillmode": "overlay",
             "size": 10,
             "solidity": 0.2
            },
            "type": "scatter"
           }
          ],
          "scatter3d": [
           {
            "line": {
             "colorbar": {
              "outlinewidth": 0,
              "ticks": ""
             }
            },
            "marker": {
             "colorbar": {
              "outlinewidth": 0,
              "ticks": ""
             }
            },
            "type": "scatter3d"
           }
          ],
          "scattercarpet": [
           {
            "marker": {
             "colorbar": {
              "outlinewidth": 0,
              "ticks": ""
             }
            },
            "type": "scattercarpet"
           }
          ],
          "scattergeo": [
           {
            "marker": {
             "colorbar": {
              "outlinewidth": 0,
              "ticks": ""
             }
            },
            "type": "scattergeo"
           }
          ],
          "scattergl": [
           {
            "marker": {
             "colorbar": {
              "outlinewidth": 0,
              "ticks": ""
             }
            },
            "type": "scattergl"
           }
          ],
          "scattermapbox": [
           {
            "marker": {
             "colorbar": {
              "outlinewidth": 0,
              "ticks": ""
             }
            },
            "type": "scattermapbox"
           }
          ],
          "scatterpolar": [
           {
            "marker": {
             "colorbar": {
              "outlinewidth": 0,
              "ticks": ""
             }
            },
            "type": "scatterpolar"
           }
          ],
          "scatterpolargl": [
           {
            "marker": {
             "colorbar": {
              "outlinewidth": 0,
              "ticks": ""
             }
            },
            "type": "scatterpolargl"
           }
          ],
          "scatterternary": [
           {
            "marker": {
             "colorbar": {
              "outlinewidth": 0,
              "ticks": ""
             }
            },
            "type": "scatterternary"
           }
          ],
          "surface": [
           {
            "colorbar": {
             "outlinewidth": 0,
             "ticks": ""
            },
            "colorscale": [
             [
              0,
              "#0d0887"
             ],
             [
              0.1111111111111111,
              "#46039f"
             ],
             [
              0.2222222222222222,
              "#7201a8"
             ],
             [
              0.3333333333333333,
              "#9c179e"
             ],
             [
              0.4444444444444444,
              "#bd3786"
             ],
             [
              0.5555555555555556,
              "#d8576b"
             ],
             [
              0.6666666666666666,
              "#ed7953"
             ],
             [
              0.7777777777777778,
              "#fb9f3a"
             ],
             [
              0.8888888888888888,
              "#fdca26"
             ],
             [
              1,
              "#f0f921"
             ]
            ],
            "type": "surface"
           }
          ],
          "table": [
           {
            "cells": {
             "fill": {
              "color": "#EBF0F8"
             },
             "line": {
              "color": "white"
             }
            },
            "header": {
             "fill": {
              "color": "#C8D4E3"
             },
             "line": {
              "color": "white"
             }
            },
            "type": "table"
           }
          ]
         },
         "layout": {
          "annotationdefaults": {
           "arrowcolor": "#2a3f5f",
           "arrowhead": 0,
           "arrowwidth": 1
          },
          "autotypenumbers": "strict",
          "coloraxis": {
           "colorbar": {
            "outlinewidth": 0,
            "ticks": ""
           }
          },
          "colorscale": {
           "diverging": [
            [
             0,
             "#8e0152"
            ],
            [
             0.1,
             "#c51b7d"
            ],
            [
             0.2,
             "#de77ae"
            ],
            [
             0.3,
             "#f1b6da"
            ],
            [
             0.4,
             "#fde0ef"
            ],
            [
             0.5,
             "#f7f7f7"
            ],
            [
             0.6,
             "#e6f5d0"
            ],
            [
             0.7,
             "#b8e186"
            ],
            [
             0.8,
             "#7fbc41"
            ],
            [
             0.9,
             "#4d9221"
            ],
            [
             1,
             "#276419"
            ]
           ],
           "sequential": [
            [
             0,
             "#0d0887"
            ],
            [
             0.1111111111111111,
             "#46039f"
            ],
            [
             0.2222222222222222,
             "#7201a8"
            ],
            [
             0.3333333333333333,
             "#9c179e"
            ],
            [
             0.4444444444444444,
             "#bd3786"
            ],
            [
             0.5555555555555556,
             "#d8576b"
            ],
            [
             0.6666666666666666,
             "#ed7953"
            ],
            [
             0.7777777777777778,
             "#fb9f3a"
            ],
            [
             0.8888888888888888,
             "#fdca26"
            ],
            [
             1,
             "#f0f921"
            ]
           ],
           "sequentialminus": [
            [
             0,
             "#0d0887"
            ],
            [
             0.1111111111111111,
             "#46039f"
            ],
            [
             0.2222222222222222,
             "#7201a8"
            ],
            [
             0.3333333333333333,
             "#9c179e"
            ],
            [
             0.4444444444444444,
             "#bd3786"
            ],
            [
             0.5555555555555556,
             "#d8576b"
            ],
            [
             0.6666666666666666,
             "#ed7953"
            ],
            [
             0.7777777777777778,
             "#fb9f3a"
            ],
            [
             0.8888888888888888,
             "#fdca26"
            ],
            [
             1,
             "#f0f921"
            ]
           ]
          },
          "colorway": [
           "#636efa",
           "#EF553B",
           "#00cc96",
           "#ab63fa",
           "#FFA15A",
           "#19d3f3",
           "#FF6692",
           "#B6E880",
           "#FF97FF",
           "#FECB52"
          ],
          "font": {
           "color": "#2a3f5f"
          },
          "geo": {
           "bgcolor": "white",
           "lakecolor": "white",
           "landcolor": "#E5ECF6",
           "showlakes": true,
           "showland": true,
           "subunitcolor": "white"
          },
          "hoverlabel": {
           "align": "left"
          },
          "hovermode": "closest",
          "mapbox": {
           "style": "light"
          },
          "paper_bgcolor": "white",
          "plot_bgcolor": "#E5ECF6",
          "polar": {
           "angularaxis": {
            "gridcolor": "white",
            "linecolor": "white",
            "ticks": ""
           },
           "bgcolor": "#E5ECF6",
           "radialaxis": {
            "gridcolor": "white",
            "linecolor": "white",
            "ticks": ""
           }
          },
          "scene": {
           "xaxis": {
            "backgroundcolor": "#E5ECF6",
            "gridcolor": "white",
            "gridwidth": 2,
            "linecolor": "white",
            "showbackground": true,
            "ticks": "",
            "zerolinecolor": "white"
           },
           "yaxis": {
            "backgroundcolor": "#E5ECF6",
            "gridcolor": "white",
            "gridwidth": 2,
            "linecolor": "white",
            "showbackground": true,
            "ticks": "",
            "zerolinecolor": "white"
           },
           "zaxis": {
            "backgroundcolor": "#E5ECF6",
            "gridcolor": "white",
            "gridwidth": 2,
            "linecolor": "white",
            "showbackground": true,
            "ticks": "",
            "zerolinecolor": "white"
           }
          },
          "shapedefaults": {
           "line": {
            "color": "#2a3f5f"
           }
          },
          "ternary": {
           "aaxis": {
            "gridcolor": "white",
            "linecolor": "white",
            "ticks": ""
           },
           "baxis": {
            "gridcolor": "white",
            "linecolor": "white",
            "ticks": ""
           },
           "bgcolor": "#E5ECF6",
           "caxis": {
            "gridcolor": "white",
            "linecolor": "white",
            "ticks": ""
           }
          },
          "title": {
           "x": 0.05
          },
          "xaxis": {
           "automargin": true,
           "gridcolor": "white",
           "linecolor": "white",
           "ticks": "",
           "title": {
            "standoff": 15
           },
           "zerolinecolor": "white",
           "zerolinewidth": 2
          },
          "yaxis": {
           "automargin": true,
           "gridcolor": "white",
           "linecolor": "white",
           "ticks": "",
           "title": {
            "standoff": 15
           },
           "zerolinecolor": "white",
           "zerolinewidth": 2
          }
         }
        },
        "title": {
         "text": "ORDERED"
        },
        "xaxis": {
         "anchor": "y",
         "domain": [
          0,
          1
         ],
         "title": {
          "text": "N"
         }
        },
        "yaxis": {
         "anchor": "x",
         "domain": [
          0,
          1
         ],
         "title": {
          "text": "value"
         }
        }
       }
      }
     },
     "metadata": {},
     "output_type": "display_data"
    },
    {
     "data": {
      "image/png": "[encoded data removed]",
      "text/plain": [
       "<Figure size 640x480 with 1 Axes>"
      ]
     },
     "metadata": {},
     "output_type": "display_data"
    },
    {
     "data": {
      "application/vnd.plotly.v1+json": {
       "config": {
        "plotlyServerURL": "https://plot.ly"
       },
       "data": [
        {
         "hovertemplate": "variable=BUBBLE<br>N=%{x}<br>value=%{y}<extra></extra>",
         "legendgroup": "BUBBLE",
         "line": {
          "color": "#636efa",
          "dash": "solid"
         },
         "marker": {
          "symbol": "circle"
         },
         "mode": "lines",
         "name": "BUBBLE",
         "orientation": "v",
         "showlegend": true,
         "type": "scatter",
         "x": [
          1000,
          2000,
          3000,
          4000,
          5000,
          6000,
          7000,
          8000,
          9000,
          10000,
          11000,
          12000,
          13000,
          14000,
          15000,
          16000,
          17000,
          18000,
          19000,
          20000,
          21000,
          22000,
          23000,
          24000,
          25000,
          26000,
          27000,
          28000,
          29000,
          30000,
          31000,
          32000,
          33000,
          34000,
          35000,
          36000,
          37000,
          38000,
          39000,
          40000,
          41000,
          42000,
          43000,
          44000,
          45000,
          46000,
          47000,
          48000,
          49000,
          50000
         ],
         "xaxis": "x",
         "y": [
          0,
          9.5367431640625e-7,
          0,
          0,
          9.5367431640625e-7,
          9.5367431640625e-7,
          9.5367431640625e-7,
          0.0000011920928955078125,
          0.000009059906005859377,
          0.0000016689300537109375,
          0.00000286102294921875,
          0.0000021457672119140625,
          0.0000021457672119140625,
          0.0000040531158447265625,
          0.0000030994415283203125,
          0.0000030994415283203125,
          0.000003814697265625,
          0.000005245208740234375,
          0.000003814697265625,
          0.000003814697265625,
          0.0000059604644775390625,
          0.00000476837158203125,
          0.0000059604644775390625,
          0.0000059604644775390625,
          0.000006198883056640625,
          0.000007152557373046875,
          0.000008344650268554688,
          0.000009059906005859377,
          0.000008821487426757812,
          0.000007867813110351562,
          0.000010967254638671877,
          0.000010013580322265623,
          0.000010967254638671877,
          0.000010967254638671877,
          0.000011920928955078123,
          0.000013113021850585938,
          0.000016927719116210938,
          0.000014781951904296877,
          0.000015974044799804688,
          0.00002002716064453125,
          0.000015735626220703125,
          0.000016927719116210938,
          0.00001811981201171875,
          0.00001883506774902344,
          0.00002002716064453125,
          0.000028848648071289062,
          0.0000209808349609375,
          0.00002193450927734375,
          0.000022172927856445312,
          0.00002312660217285156
         ],
         "yaxis": "y"
        },
        {
         "hovertemplate": "variable=QUICK<br>N=%{x}<br>value=%{y}<extra></extra>",
         "legendgroup": "QUICK",
         "line": {
          "color": "#EF553B",
          "dash": "solid"
         },
         "marker": {
          "symbol": "circle"
         },
         "mode": "lines",
         "name": "QUICK",
         "orientation": "v",
         "showlegend": true,
         "type": "scatter",
         "x": [
          1000,
          2000,
          3000,
          4000,
          5000,
          6000,
          7000,
          8000,
          9000,
          10000,
          11000,
          12000,
          13000,
          14000,
          15000,
          16000,
          17000,
          18000,
          19000,
          20000,
          21000,
          22000,
          23000,
          24000,
          25000,
          26000,
          27000,
          28000,
          29000,
          30000,
          31000,
          32000,
          33000,
          34000,
          35000,
          36000,
          37000,
          38000,
          39000,
          40000,
          41000,
          42000,
          43000,
          44000,
          45000,
          46000,
          47000,
          48000,
          49000,
          50000
         ],
         "xaxis": "x",
         "y": [
          0,
          0,
          0.0000011920928955078125,
          9.5367431640625e-7,
          9.5367431640625e-7,
          0.0000021457672119140625,
          0.0000021457672119140625,
          0.0000016689300537109375,
          0.0000030994415283203125,
          0.0000030994415283203125,
          0.0000040531158447265625,
          0.00000286102294921875,
          0.00000476837158203125,
          0.000003814697265625,
          0.0000050067901611328125,
          0.0000050067901611328125,
          0.000006198883056640625,
          0.000008821487426757812,
          0.000007152557373046875,
          0.000008106231689453125,
          0.0000050067901611328125,
          0.000008106231689453125,
          0.000010013580322265623,
          0.000010013580322265623,
          0.000010967254638671877,
          0.000012874603271484377,
          0.000010967254638671877,
          0.000007867813110351562,
          0.000014066696166992188,
          0.00001621246337890625,
          0.000007867813110351562,
          0.000013828277587890623,
          0.000015974044799804688,
          0.00001931190490722656,
          0.00002002716064453125,
          0.000015974044799804688,
          0.000015020370483398438,
          0.000024080276489257812,
          0.00001883506774902344,
          0.000029087066650390625,
          0.00002288818359375,
          0.00002002716064453125,
          0.000019073486328125,
          0.000019073486328125,
          0.000021219253540039062,
          0.00002312660217285156,
          0.000013113021850585938,
          0.0000247955322265625,
          0.0000209808349609375,
          0.00003790855407714844
         ],
         "yaxis": "y"
        },
        {
         "hovertemplate": "variable=MERGE<br>N=%{x}<br>value=%{y}<extra></extra>",
         "legendgroup": "MERGE",
         "line": {
          "color": "#00cc96",
          "dash": "solid"
         },
         "marker": {
          "symbol": "circle"
         },
         "mode": "lines",
         "name": "MERGE",
         "orientation": "v",
         "showlegend": true,
         "type": "scatter",
         "x": [
          1000,
          2000,
          3000,
          4000,
          5000,
          6000,
          7000,
          8000,
          9000,
          10000,
          11000,
          12000,
          13000,
          14000,
          15000,
          16000,
          17000,
          18000,
          19000,
          20000,
          21000,
          22000,
          23000,
          24000,
          25000,
          26000,
          27000,
          28000,
          29000,
          30000,
          31000,
          32000,
          33000,
          34000,
          35000,
          36000,
          37000,
          38000,
          39000,
          40000,
          41000,
          42000,
          43000,
          44000,
          45000,
          46000,
          47000,
          48000,
          49000,
          50000
         ],
         "xaxis": "x",
         "y": [
          0.0000011920928955078125,
          0,
          9.5367431640625e-7,
          0.0000011920928955078125,
          0.0000011920928955078125,
          7.152557373046875e-7,
          0.0000019073486328125,
          0.0000030994415283203125,
          0.00000286102294921875,
          0.0000030994415283203125,
          0.0000040531158447265625,
          0.0000040531158447265625,
          0.0000040531158447265625,
          0.000006198883056640625,
          0.0000050067901611328125,
          0.00000476837158203125,
          0.00000476837158203125,
          0.000007867813110351562,
          0.0000059604644775390625,
          0.000007152557373046875,
          0.0000069141387939453125,
          0.000008106231689453125,
          0.000008106231689453125,
          0.000007867813110351562,
          0.000009059906005859377,
          0.000010251998901367188,
          0.000010013580322265623,
          0.000010013580322265623,
          0.000011205673217773438,
          0.000010013580322265623,
          0.000010967254638671877,
          0.000011920928955078123,
          0.000012159347534179688,
          0.000012636184692382812,
          0.000013113021850585938,
          0.000013828277587890623,
          0.000016927719116210938,
          0.000015735626220703125,
          0.00001621246337890625,
          0.000017881393432617188,
          0.000016927719116210938,
          0.0000171661376953125,
          0.000015735626220703125,
          0.0000171661376953125,
          0.000017881393432617188,
          0.000017881393432617188,
          0.000017881393432617188,
          0.000018358230590820312,
          0.000017881393432617188,
          0.000024080276489257812
         ],
         "yaxis": "y"
        },
        {
         "hovertemplate": "variable=HEAP<br>N=%{x}<br>value=%{y}<extra></extra>",
         "legendgroup": "HEAP",
         "line": {
          "color": "#ab63fa",
          "dash": "solid"
         },
         "marker": {
          "symbol": "circle"
         },
         "mode": "lines",
         "name": "HEAP",
         "orientation": "v",
         "showlegend": true,
         "type": "scatter",
         "x": [
          1000,
          2000,
          3000,
          4000,
          5000,
          6000,
          7000,
          8000,
          9000,
          10000,
          11000,
          12000,
          13000,
          14000,
          15000,
          16000,
          17000,
          18000,
          19000,
          20000,
          21000,
          22000,
          23000,
          24000,
          25000,
          26000,
          27000,
          28000,
          29000,
          30000,
          31000,
          32000,
          33000,
          34000,
          35000,
          36000,
          37000,
          38000,
          39000,
          40000,
          41000,
          42000,
          43000,
          44000,
          45000,
          46000,
          47000,
          48000,
          49000,
          50000
         ],
         "xaxis": "x",
         "y": [
          9.5367431640625e-7,
          0,
          9.5367431640625e-7,
          9.5367431640625e-7,
          0.0000019073486328125,
          0.0000021457672119140625,
          0.0000021457672119140625,
          0.0000021457672119140625,
          0.0000030994415283203125,
          0.000003814697265625,
          0.00000476837158203125,
          0.0000040531158447265625,
          0.000005245208740234375,
          0.0000059604644775390625,
          0.0000059604644775390625,
          0.0000059604644775390625,
          0.000007390975952148437,
          0.000010013580322265623,
          0.000007867813110351562,
          0.000007867813110351562,
          0.000009298324584960938,
          0.000008821487426757812,
          0.000010013580322265623,
          0.000011205673217773438,
          0.000011920928955078123,
          0.000010967254638671877,
          0.000011682510375976562,
          0.000013113021850585938,
          0.000012636184692382812,
          0.000013828277587890623,
          0.000013828277587890623,
          0.000015020370483398438,
          0.00002288818359375,
          0.00001621246337890625,
          0.000016927719116210938,
          0.0000171661376953125,
          0.00002312660217285156,
          0.000019073486328125,
          0.00001883506774902344,
          0.00002002716064453125,
          0.0000209808349609375,
          0.00002193450927734375,
          0.000022172927856445312,
          0.00002264976501464844,
          0.00002312660217285156,
          0.000024080276489257812,
          0.000025272369384765625,
          0.0000247955322265625,
          0.000026226043701171875,
          0.000025987625122070312
         ],
         "yaxis": "y"
        },
        {
         "hovertemplate": "variable=INSERTION<br>N=%{x}<br>value=%{y}<extra></extra>",
         "legendgroup": "INSERTION",
         "line": {
          "color": "#FFA15A",
          "dash": "solid"
         },
         "marker": {
          "symbol": "circle"
         },
         "mode": "lines",
         "name": "INSERTION",
         "orientation": "v",
         "showlegend": true,
         "type": "scatter",
         "x": [
          1000,
          2000,
          3000,
          4000,
          5000,
          6000,
          7000,
          8000,
          9000,
          10000,
          11000,
          12000,
          13000,
          14000,
          15000,
          16000,
          17000,
          18000,
          19000,
          20000,
          21000,
          22000,
          23000,
          24000,
          25000,
          26000,
          27000,
          28000,
          29000,
          30000,
          31000,
          32000,
          33000,
          34000,
          35000,
          36000,
          37000,
          38000,
          39000,
          40000,
          41000,
          42000,
          43000,
          44000,
          45000,
          46000,
          47000,
          48000,
          49000,
          50000
         ],
         "xaxis": "x",
         "y": [
          0,
          0,
          0,
          0,
          0,
          9.5367431640625e-7,
          9.5367431640625e-7,
          9.5367431640625e-7,
          0,
          0,
          9.5367431640625e-7,
          0,
          7.152557373046875e-7,
          9.5367431640625e-7,
          9.5367431640625e-7,
          9.5367431640625e-7,
          9.5367431640625e-7,
          0.0000011920928955078125,
          9.5367431640625e-7,
          9.5367431640625e-7,
          7.152557373046875e-7,
          0.0000011920928955078125,
          0.0000019073486328125,
          9.5367431640625e-7,
          9.5367431640625e-7,
          9.5367431640625e-7,
          0.0000021457672119140625,
          0.0000021457672119140625,
          0.0000030994415283203125,
          0.0000019073486328125,
          0.0000030994415283203125,
          0.0000019073486328125,
          0.0000019073486328125,
          0.0000021457672119140625,
          0.0000019073486328125,
          0.0000030994415283203125,
          0.0000030994415283203125,
          0.00000286102294921875,
          0.0000021457672119140625,
          0.0000030994415283203125,
          0.0000021457672119140625,
          0.00000286102294921875,
          0.0000030994415283203125,
          0.0000030994415283203125,
          0.000003814697265625,
          0.0000030994415283203125,
          0.000003814697265625,
          0.0000030994415283203125,
          0.0000030994415283203125,
          0.0000040531158447265625
         ],
         "yaxis": "y"
        },
        {
         "hovertemplate": "variable=COUNTING<br>N=%{x}<br>value=%{y}<extra></extra>",
         "legendgroup": "COUNTING",
         "line": {
          "color": "#19d3f3",
          "dash": "solid"
         },
         "marker": {
          "symbol": "circle"
         },
         "mode": "lines",
         "name": "COUNTING",
         "orientation": "v",
         "showlegend": true,
         "type": "scatter",
         "x": [
          1000,
          2000,
          3000,
          4000,
          5000,
          6000,
          7000,
          8000,
          9000,
          10000,
          11000,
          12000,
          13000,
          14000,
          15000,
          16000,
          17000,
          18000,
          19000,
          20000,
          21000,
          22000,
          23000,
          24000,
          25000,
          26000,
          27000,
          28000,
          29000,
          30000,
          31000,
          32000,
          33000,
          34000,
          35000,
          36000,
          37000,
          38000,
          39000,
          40000,
          41000,
          42000,
          43000,
          44000,
          45000,
          46000,
          47000,
          48000,
          49000,
          50000
         ],
         "xaxis": "x",
         "y": [
          0,
          0.0000019073486328125,
          0.000029087066650390625,
          0.00005698204040527344,
          0.00008392333984375,
          0.0001132488250732,
          0.0001440048217773,
          0.0001599788665771,
          0.0001969337463378,
          0.0002140998840332,
          0.0002760887145996,
          0.0002996921539306,
          0.0003001689910888,
          0.0003309249877929,
          0.0003702640533447,
          0.0003790855407714,
          0.0004270076751708,
          0.0004620552062988,
          0.000493049621582,
          0.0004942417144775,
          0.0005249977111816,
          0.0005288124084472,
          0.0005500316619873,
          0.0006110668182373,
          0.0006167888641357,
          0.000690221786499,
          0.0007121562957763,
          0.0006909370422363,
          0.0007140636444091,
          0.0007722377777099,
          0.0007600784301757,
          0.0007963180541992,
          0.0008702278137207,
          0.0008478164672851,
          0.0008862018585205,
          0.0009698867797851,
          0.0009191036224365,
          0.0009782314300537,
          0.0010149478912353,
          0.0010087490081787,
          0.0010550022125244,
          0.0011360645294189,
          0.0010838508605957,
          0.0011231899261474,
          0.0012133121490478,
          0.0011870861053466,
          0.0011959075927734,
          0.0011980533599853,
          0.0012378692626953,
          0.0013809204101562
         ],
         "yaxis": "y"
        }
       ],
       "layout": {
        "legend": {
         "title": {
          "text": "variable"
         },
         "tracegroupgap": 0
        },
        "template": {
         "data": {
          "bar": [
           {
            "error_x": {
             "color": "#2a3f5f"
            },
            "error_y": {
             "color": "#2a3f5f"
            },
            "marker": {
             "line": {
              "color": "#E5ECF6",
              "width": 0.5
             },
             "pattern": {
              "fillmode": "overlay",
              "size": 10,
              "solidity": 0.2
             }
            },
            "type": "bar"
           }
          ],
          "barpolar": [
           {
            "marker": {
             "line": {
              "color": "#E5ECF6",
              "width": 0.5
             },
             "pattern": {
              "fillmode": "overlay",
              "size": 10,
              "solidity": 0.2
             }
            },
            "type": "barpolar"
           }
          ],
          "carpet": [
           {
            "aaxis": {
             "endlinecolor": "#2a3f5f",
             "gridcolor": "white",
             "linecolor": "white",
             "minorgridcolor": "white",
             "startlinecolor": "#2a3f5f"
            },
            "baxis": {
             "endlinecolor": "#2a3f5f",
             "gridcolor": "white",
             "linecolor": "white",
             "minorgridcolor": "white",
             "startlinecolor": "#2a3f5f"
            },
            "type": "carpet"
           }
          ],
          "choropleth": [
           {
            "colorbar": {
             "outlinewidth": 0,
             "ticks": ""
            },
            "type": "choropleth"
           }
          ],
          "contour": [
           {
            "colorbar": {
             "outlinewidth": 0,
             "ticks": ""
            },
            "colorscale": [
             [
              0,
              "#0d0887"
             ],
             [
              0.1111111111111111,
              "#46039f"
             ],
             [
              0.2222222222222222,
              "#7201a8"
             ],
             [
              0.3333333333333333,
              "#9c179e"
             ],
             [
              0.4444444444444444,
              "#bd3786"
             ],
             [
              0.5555555555555556,
              "#d8576b"
             ],
             [
              0.6666666666666666,
              "#ed7953"
             ],
             [
              0.7777777777777778,
              "#fb9f3a"
             ],
             [
              0.8888888888888888,
              "#fdca26"
             ],
             [
              1,
              "#f0f921"
             ]
            ],
            "type": "contour"
           }
          ],
          "contourcarpet": [
           {
            "colorbar": {
             "outlinewidth": 0,
             "ticks": ""
            },
            "type": "contourcarpet"
           }
          ],
          "heatmap": [
           {
            "colorbar": {
             "outlinewidth": 0,
             "ticks": ""
            },
            "colorscale": [
             [
              0,
              "#0d0887"
             ],
             [
              0.1111111111111111,
              "#46039f"
             ],
             [
              0.2222222222222222,
              "#7201a8"
             ],
             [
              0.3333333333333333,
              "#9c179e"
             ],
             [
              0.4444444444444444,
              "#bd3786"
             ],
             [
              0.5555555555555556,
              "#d8576b"
             ],
             [
              0.6666666666666666,
              "#ed7953"
             ],
             [
              0.7777777777777778,
              "#fb9f3a"
             ],
             [
              0.8888888888888888,
              "#fdca26"
             ],
             [
              1,
              "#f0f921"
             ]
            ],
            "type": "heatmap"
           }
          ],
          "heatmapgl": [
           {
            "colorbar": {
             "outlinewidth": 0,
             "ticks": ""
            },
            "colorscale": [
             [
              0,
              "#0d0887"
             ],
             [
              0.1111111111111111,
              "#46039f"
             ],
             [
              0.2222222222222222,
              "#7201a8"
             ],
             [
              0.3333333333333333,
              "#9c179e"
             ],
             [
              0.4444444444444444,
              "#bd3786"
             ],
             [
              0.5555555555555556,
              "#d8576b"
             ],
             [
              0.6666666666666666,
              "#ed7953"
             ],
             [
              0.7777777777777778,
              "#fb9f3a"
             ],
             [
              0.8888888888888888,
              "#fdca26"
             ],
             [
              1,
              "#f0f921"
             ]
            ],
            "type": "heatmapgl"
           }
          ],
          "histogram": [
           {
            "marker": {
             "pattern": {
              "fillmode": "overlay",
              "size": 10,
              "solidity": 0.2
             }
            },
            "type": "histogram"
           }
          ],
          "histogram2d": [
           {
            "colorbar": {
             "outlinewidth": 0,
             "ticks": ""
            },
            "colorscale": [
             [
              0,
              "#0d0887"
             ],
             [
              0.1111111111111111,
              "#46039f"
             ],
             [
              0.2222222222222222,
              "#7201a8"
             ],
             [
              0.3333333333333333,
              "#9c179e"
             ],
             [
              0.4444444444444444,
              "#bd3786"
             ],
             [
              0.5555555555555556,
              "#d8576b"
             ],
             [
              0.6666666666666666,
              "#ed7953"
             ],
             [
              0.7777777777777778,
              "#fb9f3a"
             ],
             [
              0.8888888888888888,
              "#fdca26"
             ],
             [
              1,
              "#f0f921"
             ]
            ],
            "type": "histogram2d"
           }
          ],
          "histogram2dcontour": [
           {
            "colorbar": {
             "outlinewidth": 0,
             "ticks": ""
            },
            "colorscale": [
             [
              0,
              "#0d0887"
             ],
             [
              0.1111111111111111,
              "#46039f"
             ],
             [
              0.2222222222222222,
              "#7201a8"
             ],
             [
              0.3333333333333333,
              "#9c179e"
             ],
             [
              0.4444444444444444,
              "#bd3786"
             ],
             [
              0.5555555555555556,
              "#d8576b"
             ],
             [
              0.6666666666666666,
              "#ed7953"
             ],
             [
              0.7777777777777778,
              "#fb9f3a"
             ],
             [
              0.8888888888888888,
              "#fdca26"
             ],
             [
              1,
              "#f0f921"
             ]
            ],
            "type": "histogram2dcontour"
           }
          ],
          "mesh3d": [
           {
            "colorbar": {
             "outlinewidth": 0,
             "ticks": ""
            },
            "type": "mesh3d"
           }
          ],
          "parcoords": [
           {
            "line": {
             "colorbar": {
              "outlinewidth": 0,
              "ticks": ""
             }
            },
            "type": "parcoords"
           }
          ],
          "pie": [
           {
            "automargin": true,
            "type": "pie"
           }
          ],
          "scatter": [
           {
            "fillpattern": {
             "fillmode": "overlay",
             "size": 10,
             "solidity": 0.2
            },
            "type": "scatter"
           }
          ],
          "scatter3d": [
           {
            "line": {
             "colorbar": {
              "outlinewidth": 0,
              "ticks": ""
             }
            },
            "marker": {
             "colorbar": {
              "outlinewidth": 0,
              "ticks": ""
             }
            },
            "type": "scatter3d"
           }
          ],
          "scattercarpet": [
           {
            "marker": {
             "colorbar": {
              "outlinewidth": 0,
              "ticks": ""
             }
            },
            "type": "scattercarpet"
           }
          ],
          "scattergeo": [
           {
            "marker": {
             "colorbar": {
              "outlinewidth": 0,
              "ticks": ""
             }
            },
            "type": "scattergeo"
           }
          ],
          "scattergl": [
           {
            "marker": {
             "colorbar": {
              "outlinewidth": 0,
              "ticks": ""
             }
            },
            "type": "scattergl"
           }
          ],
          "scattermapbox": [
           {
            "marker": {
             "colorbar": {
              "outlinewidth": 0,
              "ticks": ""
             }
            },
            "type": "scattermapbox"
           }
          ],
          "scatterpolar": [
           {
            "marker": {
             "colorbar": {
              "outlinewidth": 0,
              "ticks": ""
             }
            },
            "type": "scatterpolar"
           }
          ],
          "scatterpolargl": [
           {
            "marker": {
             "colorbar": {
              "outlinewidth": 0,
              "ticks": ""
             }
            },
            "type": "scatterpolargl"
           }
          ],
          "scatterternary": [
           {
            "marker": {
             "colorbar": {
              "outlinewidth": 0,
              "ticks": ""
             }
            },
            "type": "scatterternary"
           }
          ],
          "surface": [
           {
            "colorbar": {
             "outlinewidth": 0,
             "ticks": ""
            },
            "colorscale": [
             [
              0,
              "#0d0887"
             ],
             [
              0.1111111111111111,
              "#46039f"
             ],
             [
              0.2222222222222222,
              "#7201a8"
             ],
             [
              0.3333333333333333,
              "#9c179e"
             ],
             [
              0.4444444444444444,
              "#bd3786"
             ],
             [
              0.5555555555555556,
              "#d8576b"
             ],
             [
              0.6666666666666666,
              "#ed7953"
             ],
             [
              0.7777777777777778,
              "#fb9f3a"
             ],
             [
              0.8888888888888888,
              "#fdca26"
             ],
             [
              1,
              "#f0f921"
             ]
            ],
            "type": "surface"
           }
          ],
          "table": [
           {
            "cells": {
             "fill": {
              "color": "#EBF0F8"
             },
             "line": {
              "color": "white"
             }
            },
            "header": {
             "fill": {
              "color": "#C8D4E3"
             },
             "line": {
              "color": "white"
             }
            },
            "type": "table"
           }
          ]
         },
         "layout": {
          "annotationdefaults": {
           "arrowcolor": "#2a3f5f",
           "arrowhead": 0,
           "arrowwidth": 1
          },
          "autotypenumbers": "strict",
          "coloraxis": {
           "colorbar": {
            "outlinewidth": 0,
            "ticks": ""
           }
          },
          "colorscale": {
           "diverging": [
            [
             0,
             "#8e0152"
            ],
            [
             0.1,
             "#c51b7d"
            ],
            [
             0.2,
             "#de77ae"
            ],
            [
             0.3,
             "#f1b6da"
            ],
            [
             0.4,
             "#fde0ef"
            ],
            [
             0.5,
             "#f7f7f7"
            ],
            [
             0.6,
             "#e6f5d0"
            ],
            [
             0.7,
             "#b8e186"
            ],
            [
             0.8,
             "#7fbc41"
            ],
            [
             0.9,
             "#4d9221"
            ],
            [
             1,
             "#276419"
            ]
           ],
           "sequential": [
            [
             0,
             "#0d0887"
            ],
            [
             0.1111111111111111,
             "#46039f"
            ],
            [
             0.2222222222222222,
             "#7201a8"
            ],
            [
             0.3333333333333333,
             "#9c179e"
            ],
            [
             0.4444444444444444,
             "#bd3786"
            ],
            [
             0.5555555555555556,
             "#d8576b"
            ],
            [
             0.6666666666666666,
             "#ed7953"
            ],
            [
             0.7777777777777778,
             "#fb9f3a"
            ],
            [
             0.8888888888888888,
             "#fdca26"
            ],
            [
             1,
             "#f0f921"
            ]
           ],
           "sequentialminus": [
            [
             0,
             "#0d0887"
            ],
            [
             0.1111111111111111,
             "#46039f"
            ],
            [
             0.2222222222222222,
             "#7201a8"
            ],
            [
             0.3333333333333333,
             "#9c179e"
            ],
            [
             0.4444444444444444,
             "#bd3786"
            ],
            [
             0.5555555555555556,
             "#d8576b"
            ],
            [
             0.6666666666666666,
             "#ed7953"
            ],
            [
             0.7777777777777778,
             "#fb9f3a"
            ],
            [
             0.8888888888888888,
             "#fdca26"
            ],
            [
             1,
             "#f0f921"
            ]
           ]
          },
          "colorway": [
           "#636efa",
           "#EF553B",
           "#00cc96",
           "#ab63fa",
           "#FFA15A",
           "#19d3f3",
           "#FF6692",
           "#B6E880",
           "#FF97FF",
           "#FECB52"
          ],
          "font": {
           "color": "#2a3f5f"
          },
          "geo": {
           "bgcolor": "white",
           "lakecolor": "white",
           "landcolor": "#E5ECF6",
           "showlakes": true,
           "showland": true,
           "subunitcolor": "white"
          },
          "hoverlabel": {
           "align": "left"
          },
          "hovermode": "closest",
          "mapbox": {
           "style": "light"
          },
          "paper_bgcolor": "white",
          "plot_bgcolor": "#E5ECF6",
          "polar": {
           "angularaxis": {
            "gridcolor": "white",
            "linecolor": "white",
            "ticks": ""
           },
           "bgcolor": "#E5ECF6",
           "radialaxis": {
            "gridcolor": "white",
            "linecolor": "white",
            "ticks": ""
           }
          },
          "scene": {
           "xaxis": {
            "backgroundcolor": "#E5ECF6",
            "gridcolor": "white",
            "gridwidth": 2,
            "linecolor": "white",
            "showbackground": true,
            "ticks": "",
            "zerolinecolor": "white"
           },
           "yaxis": {
            "backgroundcolor": "#E5ECF6",
            "gridcolor": "white",
            "gridwidth": 2,
            "linecolor": "white",
            "showbackground": true,
            "ticks": "",
            "zerolinecolor": "white"
           },
           "zaxis": {
            "backgroundcolor": "#E5ECF6",
            "gridcolor": "white",
            "gridwidth": 2,
            "linecolor": "white",
            "showbackground": true,
            "ticks": "",
            "zerolinecolor": "white"
           }
          },
          "shapedefaults": {
           "line": {
            "color": "#2a3f5f"
           }
          },
          "ternary": {
           "aaxis": {
            "gridcolor": "white",
            "linecolor": "white",
            "ticks": ""
           },
           "baxis": {
            "gridcolor": "white",
            "linecolor": "white",
            "ticks": ""
           },
           "bgcolor": "#E5ECF6",
           "caxis": {
            "gridcolor": "white",
            "linecolor": "white",
            "ticks": ""
           }
          },
          "title": {
           "x": 0.05
          },
          "xaxis": {
           "automargin": true,
           "gridcolor": "white",
           "linecolor": "white",
           "ticks": "",
           "title": {
            "standoff": 15
           },
           "zerolinecolor": "white",
           "zerolinewidth": 2
          },
          "yaxis": {
           "automargin": true,
           "gridcolor": "white",
           "linecolor": "white",
           "ticks": "",
           "title": {
            "standoff": 15
           },
           "zerolinecolor": "white",
           "zerolinewidth": 2
          }
         }
        },
        "title": {
         "text": "ALMOST_ORDERED"
        },
        "xaxis": {
         "anchor": "y",
         "domain": [
          0,
          1
         ],
         "title": {
          "text": "N"
         }
        },
        "yaxis": {
         "anchor": "x",
         "domain": [
          0,
          1
         ],
         "title": {
          "text": "value"
         }
        }
       }
      }
     },
     "metadata": {},
     "output_type": "display_data"
    },
    {
     "data": {
      "image/png": "[encoded data removed]",
      "text/plain": [
       "<Figure size 640x480 with 1 Axes>"
      ]
     },
     "metadata": {},
     "output_type": "display_data"
    }
   ],
   "source": [
    "import plotly.express as px\n",
    "import matplotlib.pyplot as plt\n",
    "import pandas as pd \n",
    "import numpy as np\n",
    "\n",
    "df = pd.read_csv('results.txt')\n",
    "df.columns = df.columns.str.replace(' ', '')\n",
    "\n",
    "\n",
    "modes = df['MODE'].unique()\n",
    "\n",
    "for mode in modes:\n",
    "    df_mode = df[df['MODE'] == mode]\n",
    "    fig = px.line(df_mode, x='N', y=['BUBBLE', 'QUICK', 'MERGE', 'HEAP', 'INSERTION', 'COUNTING'], title=mode)\n",
    "    fig.show()\n",
    "\n",
    "    plt.plot(df_mode['N'], df_mode['BUBBLE'], label='BUBBLE')\n",
    "    plt.plot(df_mode['N'], df_mode['QUICK'], label='QUICK')\n",
    "    plt.plot(df_mode['N'], df_mode['MERGE'], label='MERGE') \n",
    "    plt.plot(df_mode['N'], df_mode['HEAP'], label='HEAP')\n",
    "    plt.plot(df_mode['N'], df_mode['INSERTION'], label='INSERTION')\n",
    "    plt.legend()\n",
    "    plt.title(mode)\n",
    "    plt.show()\n",
    "\n",
    "\n",
    "\n"
   ]
  }
 ],
 "metadata": {
  "kernelspec": {
   "display_name": "Python 3",
   "language": "python",
   "name": "python3"
  },
  "language_info": {
   "codemirror_mode": {
    "name": "ipython",
    "version": 3
   },
   "file_extension": ".py",
   "mimetype": "text/x-python",
   "name": "python",
   "nbconvert_exporter": "python",
   "pygments_lexer": "ipython3",
   "version": "3.11.5"
  }
 },
 "nbformat": 4,
 "nbformat_minor": 2
}
